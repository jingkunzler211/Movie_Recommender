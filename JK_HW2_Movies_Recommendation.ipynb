{
  "nbformat": 4,
  "nbformat_minor": 0,
  "metadata": {
    "colab": {
      "name": "JK HW2_Movies Recommendation.ipynb",
      "provenance": [],
      "authorship_tag": "ABX9TyOuDTxYKC7gu7xo8qu0kpIy",
      "include_colab_link": true
    },
    "kernelspec": {
      "name": "python3",
      "display_name": "Python 3"
    }
  },
  "cells": [
    {
      "cell_type": "markdown",
      "metadata": {
        "id": "view-in-github",
        "colab_type": "text"
      },
      "source": [
        "<a href=\"https://colab.research.google.com/github/jingkunzler211/Movie_Recommender/blob/main/JK_HW2_Movies_Recommendation.ipynb\" target=\"_parent\"><img src=\"https://colab.research.google.com/assets/colab-badge.svg\" alt=\"Open In Colab\"/></a>"
      ]
    },
    {
      "cell_type": "markdown",
      "metadata": {
        "id": "boAmxOuRffxm"
      },
      "source": [
        "# **Spark HW2 Movie Recommendation**\n",
        "\n",
        "In this notebook, we will use an Alternating Least Squares (ALS) algorithm with Spark APIs to predict the ratings for the movies in MovieLens small dataset: https://grouplens.org/datasets/movielens/latest/"
      ]
    },
    {
      "cell_type": "markdown",
      "metadata": {
        "id": "bNu1BYdFf8hi"
      },
      "source": [
        "# Data ETL and Data Exploration"
      ]
    },
    {
      "cell_type": "code",
      "metadata": {
        "id": "843l689kfx8v",
        "outputId": "e0f683d6-b774-480b-a955-f697f76e3bb2",
        "colab": {
          "base_uri": "https://localhost:8080/"
        }
      },
      "source": [
        "!apt-get update\n",
        "!apt-get install openjdk-8-jdk-headless -qq > /dev/null\n",
        "\n",
        "!wget -q http://apache.forsale.plus/spark/spark-3.0.1/spark-3.0.1-bin-hadoop2.7.tgz\n",
        "!ls\n",
        "!tar xf spark-3.0.1-bin-hadoop2.7.tgz\n",
        "\n",
        "!wget -q http://apache.mirrors.pair.com/spark/spark-3.0.1/spark-3.0.1-bin-hadoop2.7.tgz"
      ],
      "execution_count": null,
      "outputs": [
        {
          "output_type": "stream",
          "text": [
            "\r0% [Working]\r            \rIgn:1 https://developer.download.nvidia.com/compute/cuda/repos/ubuntu1804/x86_64  InRelease\n",
            "Hit:2 https://cloud.r-project.org/bin/linux/ubuntu bionic-cran40/ InRelease\n",
            "Hit:3 http://ppa.launchpad.net/c2d4u.team/c2d4u4.0+/ubuntu bionic InRelease\n",
            "Ign:4 https://developer.download.nvidia.com/compute/machine-learning/repos/ubuntu1804/x86_64  InRelease\n",
            "Hit:5 https://developer.download.nvidia.com/compute/cuda/repos/ubuntu1804/x86_64  Release\n",
            "Hit:6 https://developer.download.nvidia.com/compute/machine-learning/repos/ubuntu1804/x86_64  Release\n",
            "Hit:7 http://archive.ubuntu.com/ubuntu bionic InRelease\n",
            "Get:8 http://security.ubuntu.com/ubuntu bionic-security InRelease [88.7 kB]\n",
            "Get:9 http://archive.ubuntu.com/ubuntu bionic-updates InRelease [88.7 kB]\n",
            "Hit:10 http://ppa.launchpad.net/graphics-drivers/ppa/ubuntu bionic InRelease\n",
            "Get:11 http://archive.ubuntu.com/ubuntu bionic-backports InRelease [74.6 kB]\n",
            "Fetched 252 kB in 2s (125 kB/s)\n",
            "Reading package lists... Done\n",
            "drive\t\t\t       spark-3.0.1-bin-hadoop2.7.tgz.1\n",
            "sample_data\t\t       spark-3.0.1-bin-hadoop2.7.tgz.2\n",
            "spark-3.0.1-bin-hadoop2.7      spark-3.0.1-bin-hadoop2.7.tgz.3\n",
            "spark-3.0.1-bin-hadoop2.7.tgz  spark-3.0.1-bin-hadoop2.7.tgz.4\n"
          ],
          "name": "stdout"
        }
      ]
    },
    {
      "cell_type": "code",
      "metadata": {
        "id": "uTw4C5Z0hA61",
        "outputId": "6cfc8a78-b82c-4e24-9bd8-d08d1c2dd4c6",
        "colab": {
          "base_uri": "https://localhost:8080/"
        }
      },
      "source": [
        "# set up spark\n",
        "\n",
        "!pip install -q findspark\n",
        "!pip install py4j\n",
        "\n",
        "!export JAVA_HOME=$(/usr/lib/jvm/java-8-openjdk-amd64 -v 1.8)\n",
        "! echo $JAVA_HOME\n",
        "import os\n",
        "os.environ[\"JAVA_HOME\"] = \"/usr/lib/jvm/java-8-openjdk-amd64\"\n",
        "os.environ[\"SPARK_HOME\"] = \"/content/spark-3.0.1-bin-hadoop2.7\"\n",
        "import findspark\n",
        "findspark.init(\"spark-3.0.1-bin-hadoop2.7\")# SPARK_HOME\n",
        "\n",
        "from pyspark.sql import SparkSession\n",
        "spark = SparkSession.builder.master(\"local[*]\").getOrCreate()"
      ],
      "execution_count": null,
      "outputs": [
        {
          "output_type": "stream",
          "text": [
            "Requirement already satisfied: py4j in /usr/local/lib/python3.6/dist-packages (0.10.9.1)\n",
            "/bin/bash: /usr/lib/jvm/java-8-openjdk-amd64: Is a directory\n",
            "\n"
          ],
          "name": "stdout"
        }
      ]
    },
    {
      "cell_type": "code",
      "metadata": {
        "id": "pGjUhfwkhNxp",
        "outputId": "0bccb751-b71c-4664-a657-4e3210cd55c4",
        "colab": {
          "base_uri": "https://localhost:8080/"
        }
      },
      "source": [
        "!ls"
      ],
      "execution_count": null,
      "outputs": [
        {
          "output_type": "stream",
          "text": [
            "drive\t\t\t\t spark-3.0.1-bin-hadoop2.7.tgz.2\n",
            "sample_data\t\t\t spark-3.0.1-bin-hadoop2.7.tgz.3\n",
            "spark-3.0.1-bin-hadoop2.7\t spark-3.0.1-bin-hadoop2.7.tgz.4\n",
            "spark-3.0.1-bin-hadoop2.7.tgz\t spark-3.0.1-bin-hadoop2.7.tgz.5\n",
            "spark-3.0.1-bin-hadoop2.7.tgz.1\n"
          ],
          "name": "stdout"
        }
      ]
    },
    {
      "cell_type": "code",
      "metadata": {
        "id": "2xLExHd8hP0D"
      },
      "source": [
        "import numpy as np\n",
        "import pandas as pd\n",
        "import seaborn as sns\n",
        "import matplotlib.pyplot as plt\n",
        "import math\n",
        "%matplotlib inline"
      ],
      "execution_count": null,
      "outputs": []
    },
    {
      "cell_type": "code",
      "metadata": {
        "id": "Jp04ytCThX_5",
        "outputId": "f962ea90-a068-49ae-c71d-da353522a8c4",
        "colab": {
          "base_uri": "https://localhost:8080/"
        }
      },
      "source": [
        "from google.colab import drive\n",
        "drive.mount('/content/drive')"
      ],
      "execution_count": null,
      "outputs": [
        {
          "output_type": "stream",
          "text": [
            "Drive already mounted at /content/drive; to attempt to forcibly remount, call drive.mount(\"/content/drive\", force_remount=True).\n"
          ],
          "name": "stdout"
        }
      ]
    },
    {
      "cell_type": "code",
      "metadata": {
        "id": "Zm-G2dLAh2Pq"
      },
      "source": [
        "movies_df = spark.read.load(\"drive/My Drive/movie_rec_small/movies.csv\", format='csv', header = True)\n",
        "ratings_df = spark.read.load(\"drive/My Drive/movie_rec_small/ratings.csv\", format='csv', header = True)\n",
        "links_df = spark.read.load(\"drive/My Drive/movie_rec_small/links.csv\", format='csv', header = True)\n",
        "tags_df = spark.read.load(\"drive/My Drive/movie_rec_small/tags.csv\", format='csv', header = True)"
      ],
      "execution_count": null,
      "outputs": []
    },
    {
      "cell_type": "code",
      "metadata": {
        "id": "XVs3rz6hiEir",
        "outputId": "73ec121e-163d-454b-a09b-188872684d4c",
        "colab": {
          "base_uri": "https://localhost:8080/"
        }
      },
      "source": [
        "movies_df.show(5)"
      ],
      "execution_count": null,
      "outputs": [
        {
          "output_type": "stream",
          "text": [
            "+-------+--------------------+--------------------+\n",
            "|movieId|               title|              genres|\n",
            "+-------+--------------------+--------------------+\n",
            "|      1|    Toy Story (1995)|Adventure|Animati...|\n",
            "|      2|      Jumanji (1995)|Adventure|Childre...|\n",
            "|      3|Grumpier Old Men ...|      Comedy|Romance|\n",
            "|      4|Waiting to Exhale...|Comedy|Drama|Romance|\n",
            "|      5|Father of the Bri...|              Comedy|\n",
            "+-------+--------------------+--------------------+\n",
            "only showing top 5 rows\n",
            "\n"
          ],
          "name": "stdout"
        }
      ]
    },
    {
      "cell_type": "code",
      "metadata": {
        "id": "WQ9uuxRoiGDD",
        "outputId": "e8880f06-cc3b-4de4-f389-f15bc9ef79b0",
        "colab": {
          "base_uri": "https://localhost:8080/"
        }
      },
      "source": [
        "ratings_df.show(5)"
      ],
      "execution_count": null,
      "outputs": [
        {
          "output_type": "stream",
          "text": [
            "+------+-------+------+---------+\n",
            "|userId|movieId|rating|timestamp|\n",
            "+------+-------+------+---------+\n",
            "|     1|      1|   4.0|964982703|\n",
            "|     1|      3|   4.0|964981247|\n",
            "|     1|      6|   4.0|964982224|\n",
            "|     1|     47|   5.0|964983815|\n",
            "|     1|     50|   5.0|964982931|\n",
            "+------+-------+------+---------+\n",
            "only showing top 5 rows\n",
            "\n"
          ],
          "name": "stdout"
        }
      ]
    },
    {
      "cell_type": "code",
      "metadata": {
        "id": "rECp62qmiJti",
        "outputId": "cdc08431-6185-453a-b165-be0fff186180",
        "colab": {
          "base_uri": "https://localhost:8080/"
        }
      },
      "source": [
        "links_df.show(5)"
      ],
      "execution_count": null,
      "outputs": [
        {
          "output_type": "stream",
          "text": [
            "+-------+-------+------+\n",
            "|movieId| imdbId|tmdbId|\n",
            "+-------+-------+------+\n",
            "|      1|0114709|   862|\n",
            "|      2|0113497|  8844|\n",
            "|      3|0113228| 15602|\n",
            "|      4|0114885| 31357|\n",
            "|      5|0113041| 11862|\n",
            "+-------+-------+------+\n",
            "only showing top 5 rows\n",
            "\n"
          ],
          "name": "stdout"
        }
      ]
    },
    {
      "cell_type": "code",
      "metadata": {
        "id": "3kXqpEGUiOzS",
        "outputId": "03a54b1e-3dcd-4eb1-cda2-f03d75ec3cdd",
        "colab": {
          "base_uri": "https://localhost:8080/"
        }
      },
      "source": [
        "tags_df.show(5)"
      ],
      "execution_count": null,
      "outputs": [
        {
          "output_type": "stream",
          "text": [
            "+------+-------+---------------+----------+\n",
            "|userId|movieId|            tag| timestamp|\n",
            "+------+-------+---------------+----------+\n",
            "|     2|  60756|          funny|1445714994|\n",
            "|     2|  60756|Highly quotable|1445714996|\n",
            "|     2|  60756|   will ferrell|1445714992|\n",
            "|     2|  89774|   Boxing story|1445715207|\n",
            "|     2|  89774|            MMA|1445715200|\n",
            "+------+-------+---------------+----------+\n",
            "only showing top 5 rows\n",
            "\n"
          ],
          "name": "stdout"
        }
      ]
    },
    {
      "cell_type": "code",
      "metadata": {
        "id": "bXU8MmC6iSGh",
        "outputId": "f83abc8d-a3d6-44cd-a190-02d434aebaa2",
        "colab": {
          "base_uri": "https://localhost:8080/"
        }
      },
      "source": [
        "tmp1 = ratings_df.groupBy(\"userID\").count().toPandas()['count'].min()\n",
        "tmp2 = ratings_df.groupBy(\"movieId\").count().toPandas()['count'].min()\n",
        "tmp3 = ratings_df.groupBy(\"userID\").count().toPandas()['count'].mean()\n",
        "tmp4 = ratings_df.groupBy(\"movieId\").count().toPandas()['count'].mean()\n",
        "\n",
        "print('For the users that rated movies and the movies that were rated:')\n",
        "print('Minimum number of ratings per user is {}'.format(tmp1))\n",
        "print('Minimum number of ratings per movie is {}'.format(tmp2))\n",
        "print('Average number of ratings per user is {}'.format(tmp1))\n",
        "print('Average number of ratings per movie is {}'.format(tmp1))"
      ],
      "execution_count": null,
      "outputs": [
        {
          "output_type": "stream",
          "text": [
            "For the users that rated movies and the movies that were rated:\n",
            "Minimum number of ratings per user is 20\n",
            "Minimum number of ratings per movie is 1\n",
            "Average number of ratings per user is 20\n",
            "Average number of ratings per movie is 20\n"
          ],
          "name": "stdout"
        }
      ]
    },
    {
      "cell_type": "markdown",
      "metadata": {
        "id": "iOXbBMGyj1s9"
      },
      "source": [
        "# Part 1: Spark SQL and OLAP"
      ]
    },
    {
      "cell_type": "code",
      "metadata": {
        "id": "4SXOPHejj-gE"
      },
      "source": [
        "movies_df.registerTempTable(\"movies\")\n",
        "ratings_df.registerTempTable(\"ratings\")\n",
        "links_df.registerTempTable(\"links\")\n",
        "tags_df.registerTempTable(\"tags\")"
      ],
      "execution_count": null,
      "outputs": []
    },
    {
      "cell_type": "markdown",
      "metadata": {
        "id": "yHefbJErkGaz"
      },
      "source": [
        "**1. Number of users**"
      ]
    },
    {
      "cell_type": "code",
      "metadata": {
        "id": "MeTBwxIPkOGe",
        "outputId": "6846343c-c28f-45f5-bd1f-a46c13b7c343",
        "colab": {
          "base_uri": "https://localhost:8080/"
        }
      },
      "source": [
        "q1_result=spark.sql(\"Select Count(Distinct userId) as Number_of_Users from ratings\")\n",
        "q1_result.show()"
      ],
      "execution_count": null,
      "outputs": [
        {
          "output_type": "stream",
          "text": [
            "+---------------+\n",
            "|Number_of_Users|\n",
            "+---------------+\n",
            "|            610|\n",
            "+---------------+\n",
            "\n"
          ],
          "name": "stdout"
        }
      ]
    },
    {
      "cell_type": "markdown",
      "metadata": {
        "id": "Jxl_D8eykcvv"
      },
      "source": [
        "**2. Number of Movies**\n",
        "**and number of movies not rated**"
      ]
    },
    {
      "cell_type": "code",
      "metadata": {
        "id": "kseFi6cKkfid",
        "outputId": "84d8dd9a-876f-4c9c-d0a6-74300ec755a1",
        "colab": {
          "base_uri": "https://localhost:8080/"
        }
      },
      "source": [
        "q2_result=spark.sql(\"Select Count(movieId) as Number_of_Movies from movies\")\n",
        "q2_result.show()"
      ],
      "execution_count": null,
      "outputs": [
        {
          "output_type": "stream",
          "text": [
            "+----------------+\n",
            "|Number_of_Movies|\n",
            "+----------------+\n",
            "|            9742|\n",
            "+----------------+\n",
            "\n"
          ],
          "name": "stdout"
        }
      ]
    },
    {
      "cell_type": "code",
      "metadata": {
        "id": "0XnXPJ_bjWM-",
        "outputId": "7b2c9ac4-d474-4764-d5f6-331b93c1c678",
        "colab": {
          "base_uri": "https://localhost:8080/"
        }
      },
      "source": [
        "tmp1 = sum(ratings_df.groupBy(\"movieId\").count().toPandas()['count'] <= 5)\n",
        "tmp2 = ratings_df.select('movieId').distinct().count()\n",
        "print('{} out of {} movies are rated by fewer than 5 users'.format(tmp1, tmp2))"
      ],
      "execution_count": null,
      "outputs": [
        {
          "output_type": "stream",
          "text": [
            "6456 out of 9724 movies are rated by fewer than 5 users\n"
          ],
          "name": "stdout"
        }
      ]
    },
    {
      "cell_type": "code",
      "metadata": {
        "id": "doXVP49MmMzx",
        "outputId": "cadc21e8-2073-4851-997a-0caa79b24032",
        "colab": {
          "base_uri": "https://localhost:8080/"
        }
      },
      "source": [
        "no_rating=spark.sql(\"Select Count(movieId) as Movies_Not_Rated From movies Where movieID not in (Select movieId From ratings)\")\n",
        "no_rating.show()"
      ],
      "execution_count": null,
      "outputs": [
        {
          "output_type": "stream",
          "text": [
            "+----------------+\n",
            "|Movies_Not_Rated|\n",
            "+----------------+\n",
            "|              18|\n",
            "+----------------+\n",
            "\n"
          ],
          "name": "stdout"
        }
      ]
    },
    {
      "cell_type": "code",
      "metadata": {
        "id": "plePpta4lonw",
        "outputId": "203e46f9-2d8a-4eb0-9ec2-93f565f658a6",
        "colab": {
          "base_uri": "https://localhost:8080/",
          "height": 607
        }
      },
      "source": [
        "movies_no_rating=spark.sql(\"Select movieId, title From movies Where movieID not in (Select movieId From ratings)\")\n",
        "movies_no_rating.toPandas()"
      ],
      "execution_count": null,
      "outputs": [
        {
          "output_type": "execute_result",
          "data": {
            "text/html": [
              "<div>\n",
              "<style scoped>\n",
              "    .dataframe tbody tr th:only-of-type {\n",
              "        vertical-align: middle;\n",
              "    }\n",
              "\n",
              "    .dataframe tbody tr th {\n",
              "        vertical-align: top;\n",
              "    }\n",
              "\n",
              "    .dataframe thead th {\n",
              "        text-align: right;\n",
              "    }\n",
              "</style>\n",
              "<table border=\"1\" class=\"dataframe\">\n",
              "  <thead>\n",
              "    <tr style=\"text-align: right;\">\n",
              "      <th></th>\n",
              "      <th>movieId</th>\n",
              "      <th>title</th>\n",
              "    </tr>\n",
              "  </thead>\n",
              "  <tbody>\n",
              "    <tr>\n",
              "      <th>0</th>\n",
              "      <td>1076</td>\n",
              "      <td>Innocents, The (1961)</td>\n",
              "    </tr>\n",
              "    <tr>\n",
              "      <th>1</th>\n",
              "      <td>2939</td>\n",
              "      <td>Niagara (1953)</td>\n",
              "    </tr>\n",
              "    <tr>\n",
              "      <th>2</th>\n",
              "      <td>3338</td>\n",
              "      <td>For All Mankind (1989)</td>\n",
              "    </tr>\n",
              "    <tr>\n",
              "      <th>3</th>\n",
              "      <td>3456</td>\n",
              "      <td>Color of Paradise, The (Rang-e khoda) (1999)</td>\n",
              "    </tr>\n",
              "    <tr>\n",
              "      <th>4</th>\n",
              "      <td>4194</td>\n",
              "      <td>I Know Where I'm Going! (1945)</td>\n",
              "    </tr>\n",
              "    <tr>\n",
              "      <th>5</th>\n",
              "      <td>5721</td>\n",
              "      <td>Chosen, The (1981)</td>\n",
              "    </tr>\n",
              "    <tr>\n",
              "      <th>6</th>\n",
              "      <td>6668</td>\n",
              "      <td>Road Home, The (Wo de fu qin mu qin) (1999)</td>\n",
              "    </tr>\n",
              "    <tr>\n",
              "      <th>7</th>\n",
              "      <td>6849</td>\n",
              "      <td>Scrooge (1970)</td>\n",
              "    </tr>\n",
              "    <tr>\n",
              "      <th>8</th>\n",
              "      <td>7020</td>\n",
              "      <td>Proof (1991)</td>\n",
              "    </tr>\n",
              "    <tr>\n",
              "      <th>9</th>\n",
              "      <td>7792</td>\n",
              "      <td>Parallax View, The (1974)</td>\n",
              "    </tr>\n",
              "    <tr>\n",
              "      <th>10</th>\n",
              "      <td>8765</td>\n",
              "      <td>This Gun for Hire (1942)</td>\n",
              "    </tr>\n",
              "    <tr>\n",
              "      <th>11</th>\n",
              "      <td>25855</td>\n",
              "      <td>Roaring Twenties, The (1939)</td>\n",
              "    </tr>\n",
              "    <tr>\n",
              "      <th>12</th>\n",
              "      <td>26085</td>\n",
              "      <td>Mutiny on the Bounty (1962)</td>\n",
              "    </tr>\n",
              "    <tr>\n",
              "      <th>13</th>\n",
              "      <td>30892</td>\n",
              "      <td>In the Realms of the Unreal (2004)</td>\n",
              "    </tr>\n",
              "    <tr>\n",
              "      <th>14</th>\n",
              "      <td>32160</td>\n",
              "      <td>Twentieth Century (1934)</td>\n",
              "    </tr>\n",
              "    <tr>\n",
              "      <th>15</th>\n",
              "      <td>32371</td>\n",
              "      <td>Call Northside 777 (1948)</td>\n",
              "    </tr>\n",
              "    <tr>\n",
              "      <th>16</th>\n",
              "      <td>34482</td>\n",
              "      <td>Browning Version, The (1951)</td>\n",
              "    </tr>\n",
              "    <tr>\n",
              "      <th>17</th>\n",
              "      <td>85565</td>\n",
              "      <td>Chalet Girl (2011)</td>\n",
              "    </tr>\n",
              "  </tbody>\n",
              "</table>\n",
              "</div>"
            ],
            "text/plain": [
              "   movieId                                         title\n",
              "0     1076                         Innocents, The (1961)\n",
              "1     2939                                Niagara (1953)\n",
              "2     3338                        For All Mankind (1989)\n",
              "3     3456  Color of Paradise, The (Rang-e khoda) (1999)\n",
              "4     4194                I Know Where I'm Going! (1945)\n",
              "5     5721                            Chosen, The (1981)\n",
              "6     6668   Road Home, The (Wo de fu qin mu qin) (1999)\n",
              "7     6849                                Scrooge (1970)\n",
              "8     7020                                  Proof (1991)\n",
              "9     7792                     Parallax View, The (1974)\n",
              "10    8765                      This Gun for Hire (1942)\n",
              "11   25855                  Roaring Twenties, The (1939)\n",
              "12   26085                   Mutiny on the Bounty (1962)\n",
              "13   30892            In the Realms of the Unreal (2004)\n",
              "14   32160                      Twentieth Century (1934)\n",
              "15   32371                     Call Northside 777 (1948)\n",
              "16   34482                  Browning Version, The (1951)\n",
              "17   85565                            Chalet Girl (2011)"
            ]
          },
          "metadata": {
            "tags": []
          },
          "execution_count": 92
        }
      ]
    },
    {
      "cell_type": "markdown",
      "metadata": {
        "id": "bh5soizVkl5s"
      },
      "source": [
        "**3. All movie genres**\n"
      ]
    },
    {
      "cell_type": "code",
      "metadata": {
        "id": "pQmsTjpxlJmD",
        "outputId": "ce00b051-3785-4825-d521-6dff9a625629",
        "colab": {
          "base_uri": "https://localhost:8080/"
        }
      },
      "source": [
        "q3_result=spark.sql(\"Select Distinct explode(split(genres,'[|]')) as genres From movies Order by 1\")\n",
        "q3_result.show()"
      ],
      "execution_count": null,
      "outputs": [
        {
          "output_type": "stream",
          "text": [
            "+------------------+\n",
            "|            genres|\n",
            "+------------------+\n",
            "|(no genres listed)|\n",
            "|            Action|\n",
            "|         Adventure|\n",
            "|         Animation|\n",
            "|          Children|\n",
            "|            Comedy|\n",
            "|             Crime|\n",
            "|       Documentary|\n",
            "|             Drama|\n",
            "|           Fantasy|\n",
            "|         Film-Noir|\n",
            "|            Horror|\n",
            "|              IMAX|\n",
            "|           Musical|\n",
            "|           Mystery|\n",
            "|           Romance|\n",
            "|            Sci-Fi|\n",
            "|          Thriller|\n",
            "|               War|\n",
            "|           Western|\n",
            "+------------------+\n",
            "\n"
          ],
          "name": "stdout"
        }
      ]
    },
    {
      "cell_type": "markdown",
      "metadata": {
        "id": "yA4BmdzYlcTy"
      },
      "source": [
        "**4. Number of movies in each genre**"
      ]
    },
    {
      "cell_type": "code",
      "metadata": {
        "id": "ybzPZ0fdlhke",
        "outputId": "2fe82aba-d0a1-4d72-c092-577666d3873a",
        "colab": {
          "base_uri": "https://localhost:8080/"
        }
      },
      "source": [
        "q4_result_1=spark.sql(\n",
        "    \"Select genres,Count(movieId) as Number_of_Movies From (Select explode(split(genres,'[|]')) as genres, movieId From movies) Group By 1 Order by 2 DESC\")\n",
        "q4_result_1.show()"
      ],
      "execution_count": null,
      "outputs": [
        {
          "output_type": "stream",
          "text": [
            "+------------------+----------------+\n",
            "|            genres|Number_of_Movies|\n",
            "+------------------+----------------+\n",
            "|             Drama|            4361|\n",
            "|            Comedy|            3756|\n",
            "|          Thriller|            1894|\n",
            "|            Action|            1828|\n",
            "|           Romance|            1596|\n",
            "|         Adventure|            1263|\n",
            "|             Crime|            1199|\n",
            "|            Sci-Fi|             980|\n",
            "|            Horror|             978|\n",
            "|           Fantasy|             779|\n",
            "|          Children|             664|\n",
            "|         Animation|             611|\n",
            "|           Mystery|             573|\n",
            "|       Documentary|             440|\n",
            "|               War|             382|\n",
            "|           Musical|             334|\n",
            "|           Western|             167|\n",
            "|              IMAX|             158|\n",
            "|         Film-Noir|              87|\n",
            "|(no genres listed)|              34|\n",
            "+------------------+----------------+\n",
            "\n"
          ],
          "name": "stdout"
        }
      ]
    },
    {
      "cell_type": "markdown",
      "metadata": {
        "id": "tAM9ucZImEQq"
      },
      "source": [
        "**5. Number of ratings**"
      ]
    },
    {
      "cell_type": "code",
      "metadata": {
        "id": "pyyUM83jmIiA",
        "outputId": "7943859a-d940-4ad4-90f8-68a96354d870",
        "colab": {
          "base_uri": "https://localhost:8080/"
        }
      },
      "source": [
        "q5_result=spark.sql(\"Select Count(*) as Number_of_Ratings from ratings\")\n",
        "q5_result.show()"
      ],
      "execution_count": null,
      "outputs": [
        {
          "output_type": "stream",
          "text": [
            "+-----------------+\n",
            "|Number_of_Ratings|\n",
            "+-----------------+\n",
            "|           100836|\n",
            "+-----------------+\n",
            "\n"
          ],
          "name": "stdout"
        }
      ]
    },
    {
      "cell_type": "markdown",
      "metadata": {
        "id": "XTY2jn0rmvWj"
      },
      "source": [
        "**6. Number of movies in each tag, show only top 20 results**"
      ]
    },
    {
      "cell_type": "code",
      "metadata": {
        "id": "UxE1aG3-nTew",
        "outputId": "4ef3d333-882b-4b16-90b6-813a8716cc66",
        "colab": {
          "base_uri": "https://localhost:8080/"
        }
      },
      "source": [
        "q6_result_1=spark.sql(\"Select tag, Count(movieId) as Number_of_Movies From tags Group By 1 Order by 2 DESC\")\n",
        "q6_result_1.show(20)"
      ],
      "execution_count": null,
      "outputs": [
        {
          "output_type": "stream",
          "text": [
            "+------------------+----------------+\n",
            "|               tag|Number_of_Movies|\n",
            "+------------------+----------------+\n",
            "|  In Netflix queue|             131|\n",
            "|       atmospheric|              36|\n",
            "| thought-provoking|              24|\n",
            "|         superhero|              24|\n",
            "|           surreal|              23|\n",
            "|            Disney|              23|\n",
            "|             funny|              23|\n",
            "|          religion|              22|\n",
            "|       dark comedy|              21|\n",
            "|            quirky|              21|\n",
            "|        psychology|              21|\n",
            "|            sci-fi|              21|\n",
            "|          suspense|              20|\n",
            "|visually appealing|              19|\n",
            "|      twist ending|              19|\n",
            "|             crime|              19|\n",
            "|          politics|              18|\n",
            "|             music|              16|\n",
            "|       time travel|              16|\n",
            "|    mental illness|              16|\n",
            "+------------------+----------------+\n",
            "only showing top 20 rows\n",
            "\n"
          ],
          "name": "stdout"
        }
      ]
    },
    {
      "cell_type": "markdown",
      "metadata": {
        "id": "hDaRhBKwqm8x"
      },
      "source": [
        "# **Part2: Spark ALS based approach for training model**\n",
        "\n",
        "Using Spark ML to predict ratings with ratings.csv."
      ]
    },
    {
      "cell_type": "code",
      "metadata": {
        "id": "iI8iSbLl5Zeb"
      },
      "source": [
        "ratings=ratings_df.drop('timestamp')\n",
        "\n",
        "ratings = ratings.withColumn(\"userId\", ratings[\"userId\"].cast(\"Integer\"))\n",
        "ratings = ratings.withColumn(\"movieId\", ratings[\"movieId\"].cast(\"Integer\"))\n",
        "ratings = ratings.withColumn(\"rating\", ratings[\"rating\"].cast(\"float\"))"
      ],
      "execution_count": null,
      "outputs": []
    },
    {
      "cell_type": "code",
      "metadata": {
        "id": "gcCgu6Is5qa0",
        "outputId": "74736f6c-335b-4174-ef91-6199a923ad72",
        "colab": {
          "base_uri": "https://localhost:8080/"
        }
      },
      "source": [
        "ratings.printSchema()"
      ],
      "execution_count": null,
      "outputs": [
        {
          "output_type": "stream",
          "text": [
            "root\n",
            " |-- userId: integer (nullable = true)\n",
            " |-- movieId: integer (nullable = true)\n",
            " |-- rating: float (nullable = true)\n",
            "\n"
          ],
          "name": "stdout"
        }
      ]
    },
    {
      "cell_type": "markdown",
      "metadata": {
        "id": "oAN1IQCLs9nQ"
      },
      "source": [
        "# ALS Model Selection and Evaluation\n",
        "With the ALS model, we can use a grid search to find the optimal hyperparameters."
      ]
    },
    {
      "cell_type": "code",
      "metadata": {
        "id": "ebjnowM1tD4f"
      },
      "source": [
        "# import package\n",
        "from pyspark.ml.evaluation import RegressionEvaluator\n",
        "from pyspark.ml.recommendation import ALS\n",
        "from pyspark.ml.tuning import CrossValidator,ParamGridBuilder"
      ],
      "execution_count": null,
      "outputs": []
    },
    {
      "cell_type": "code",
      "metadata": {
        "id": "PBx93OuGtGw7",
        "outputId": "bb1df862-5d6b-4661-994a-81829c9383e3",
        "colab": {
          "base_uri": "https://localhost:8080/"
        }
      },
      "source": [
        "# split ratings to train and test sets: 0.8 to 0.2 ratio\n",
        "(training,test)=ratings.randomSplit([0.8,0.2])\n",
        "\n",
        "training.cache()\n",
        "test.cache()"
      ],
      "execution_count": null,
      "outputs": [
        {
          "output_type": "execute_result",
          "data": {
            "text/plain": [
              "DataFrame[userId: int, movieId: int, rating: float]"
            ]
          },
          "metadata": {
            "tags": []
          },
          "execution_count": 25
        }
      ]
    },
    {
      "cell_type": "code",
      "metadata": {
        "id": "FhTt84-BtdD6"
      },
      "source": [
        "#Create ALS model\n",
        "model = ALS(maxIter=5, rank=10, regParam=0.01, userCol=\"userId\", itemCol=\"movieId\", ratingCol=\"rating\",\n",
        "          coldStartStrategy=\"drop\")"
      ],
      "execution_count": null,
      "outputs": []
    },
    {
      "cell_type": "code",
      "metadata": {
        "id": "l7S3mTjjtnx7"
      },
      "source": [
        "#Tune model using ParamGridBuilder\n",
        "paramGrid = (ParamGridBuilder()\n",
        "             .addGrid(model.regParam, [0.05, 0.1, 0.3, 0.5])\n",
        "             .addGrid(model.rank, [5, 10, 15])\n",
        "             .addGrid(model.maxIter, [1, 5, 10])\n",
        "             .build())"
      ],
      "execution_count": null,
      "outputs": []
    },
    {
      "cell_type": "code",
      "metadata": {
        "id": "L63nYYyntweN"
      },
      "source": [
        "# Define evaluator as RMSE\n",
        "evaluator = RegressionEvaluator(metricName=\"rmse\", labelCol=\"rating\",\n",
        "                                predictionCol=\"prediction\")"
      ],
      "execution_count": null,
      "outputs": []
    },
    {
      "cell_type": "code",
      "metadata": {
        "id": "L1lDzgt3t2Tn"
      },
      "source": [
        "# Build Cross validation \n",
        "cv = CrossValidator(estimator=base, estimatorParamMaps=paramGrid, evaluator=evaluator, numFolds=5)"
      ],
      "execution_count": null,
      "outputs": []
    },
    {
      "cell_type": "code",
      "metadata": {
        "id": "sUEggpuwuCMf"
      },
      "source": [
        "#Fit ALS model to training data\n",
        "cvModel = cv.fit(training)"
      ],
      "execution_count": null,
      "outputs": []
    },
    {
      "cell_type": "code",
      "metadata": {
        "id": "ivKLmjMIulaz"
      },
      "source": [
        "bestModel=cvModel.bestModel"
      ],
      "execution_count": null,
      "outputs": []
    },
    {
      "cell_type": "markdown",
      "metadata": {
        "id": "OD-ARTuqDio8"
      },
      "source": [
        "# Model testing\n",
        "And finally, make a prediction and check the testing error."
      ]
    },
    {
      "cell_type": "code",
      "metadata": {
        "id": "-qUS-ZhFDkpu"
      },
      "source": [
        "#Generate predictions and evaluate using RMSE\n",
        "predictions=bestModel.transform(test)\n",
        "rmse = evaluator.evaluate(predictions)"
      ],
      "execution_count": null,
      "outputs": []
    },
    {
      "cell_type": "code",
      "metadata": {
        "id": "45PZFARoDusa",
        "outputId": "f4d86735-9ac1-45e2-8780-719c632d055d",
        "colab": {
          "base_uri": "https://localhost:8080/"
        }
      },
      "source": [
        "#Print evaluation metrics and model parameters\n",
        "print (\"RMSE = \"+str(rmse))\n",
        "print (\"**Best Model**\")\n",
        "print (\" Rank: \", str(bestModel._java_obj.parent().getRank())),\n",
        "print (\" MaxIter: \", str(bestModel._java_obj.parent().getMaxIter())), \n",
        "print (\" RegParam: \", str(bestModel._java_obj.parent().getRegParam()))"
      ],
      "execution_count": null,
      "outputs": [
        {
          "output_type": "stream",
          "text": [
            "RMSE = 1.081622125982638\n",
            "**Best Model**\n",
            " Rank:  10\n",
            " MaxIter:  5\n",
            " RegParam:  0.01\n"
          ],
          "name": "stdout"
        }
      ]
    },
    {
      "cell_type": "code",
      "metadata": {
        "id": "Sc46wliJDz78",
        "outputId": "b88a151e-7f78-4aa8-a336-f34152670c34",
        "colab": {
          "base_uri": "https://localhost:8080/"
        }
      },
      "source": [
        "predictions.show()"
      ],
      "execution_count": null,
      "outputs": [
        {
          "output_type": "stream",
          "text": [
            "+------+-------+------+----------+\n",
            "|userId|movieId|rating|prediction|\n",
            "+------+-------+------+----------+\n",
            "|   133|    471|   4.0|  3.745387|\n",
            "|   436|    471|   3.0|   4.25896|\n",
            "|   599|    471|   2.5| 4.0649853|\n",
            "|   610|    471|   4.0| 3.5155776|\n",
            "|   555|    471|   3.0|  3.691596|\n",
            "|   176|    471|   5.0| 3.8968923|\n",
            "|   448|    471|   4.0| 2.6877592|\n",
            "|   608|    471|   1.5| 3.5397878|\n",
            "|   541|    471|   3.0| 3.1751673|\n",
            "|   260|    471|   4.5|  4.811924|\n",
            "|   357|    471|   3.5| 2.8299525|\n",
            "|   599|    833|   1.5| 1.1976092|\n",
            "|   609|    833|   3.0| 1.1345911|\n",
            "|   608|    833|   0.5| 1.9620548|\n",
            "|   606|   1088|   3.0| 3.4504764|\n",
            "|    64|   1088|   4.0| 3.2673013|\n",
            "|   387|   1088|   1.5| 2.6032763|\n",
            "|    51|   1088|   4.0| 3.0842583|\n",
            "|   525|   1088|   4.5| 3.5194712|\n",
            "|    42|   1088|   3.0| 3.9461255|\n",
            "+------+-------+------+----------+\n",
            "only showing top 20 rows\n",
            "\n"
          ],
          "name": "stdout"
        }
      ]
    },
    {
      "cell_type": "markdown",
      "metadata": {
        "id": "EOpVVwIzD-fb"
      },
      "source": [
        "# Apply model on the entire dataset and analyze the performance"
      ]
    },
    {
      "cell_type": "code",
      "metadata": {
        "id": "dce9H_eYEEbL",
        "outputId": "7cf38bdc-5020-43a9-b2fd-c30f5e7719b4",
        "colab": {
          "base_uri": "https://localhost:8080/"
        }
      },
      "source": [
        "alldata=bestModel.transform(ratings)\n",
        "rmse = evaluator.evaluate(alldata)\n",
        "print (\"RMSE = \"+str(rmse))"
      ],
      "execution_count": null,
      "outputs": [
        {
          "output_type": "stream",
          "text": [
            "RMSE = 0.6548876803732754\n"
          ],
          "name": "stdout"
        }
      ]
    },
    {
      "cell_type": "code",
      "metadata": {
        "id": "srbqTE6jEsvZ"
      },
      "source": [
        "alldata.registerTempTable(\"alldata\")"
      ],
      "execution_count": null,
      "outputs": []
    },
    {
      "cell_type": "code",
      "metadata": {
        "id": "-9yZy6NBEwMA",
        "outputId": "f2da117a-aadf-4401-e6a9-aa7ac4ad17c0",
        "colab": {
          "base_uri": "https://localhost:8080/"
        }
      },
      "source": [
        "spark.sql(\"Select * From alldata\").show()"
      ],
      "execution_count": null,
      "outputs": [
        {
          "output_type": "stream",
          "text": [
            "+------+-------+------+----------+\n",
            "|userId|movieId|rating|prediction|\n",
            "+------+-------+------+----------+\n",
            "|   191|    148|   5.0|  5.224857|\n",
            "|   133|    471|   4.0|  3.745387|\n",
            "|   597|    471|   2.0| 3.5172842|\n",
            "|   385|    471|   4.0| 3.6759431|\n",
            "|   436|    471|   3.0|   4.25896|\n",
            "|   602|    471|   4.0| 3.7121518|\n",
            "|    91|    471|   1.0| 2.1412864|\n",
            "|   409|    471|   3.0|  2.892838|\n",
            "|   372|    471|   3.0| 4.6815906|\n",
            "|   599|    471|   2.5| 4.0649853|\n",
            "|   603|    471|   4.0| 4.4310017|\n",
            "|   182|    471|   4.5| 3.7322612|\n",
            "|   218|    471|   4.0| 3.3882406|\n",
            "|   474|    471|   3.0| 2.7381477|\n",
            "|   500|    471|   1.0| 1.2007028|\n",
            "|    57|    471|   3.0| 2.9827836|\n",
            "|   462|    471|   2.5| 3.2799127|\n",
            "|   387|    471|   3.0| 3.3425484|\n",
            "|   610|    471|   4.0| 3.5155776|\n",
            "|   217|    471|   2.0| 2.5376716|\n",
            "+------+-------+------+----------+\n",
            "only showing top 20 rows\n",
            "\n"
          ],
          "name": "stdout"
        }
      ]
    },
    {
      "cell_type": "code",
      "metadata": {
        "id": "VO6--_3KFBWq",
        "outputId": "00731a78-a43d-4e96-e145-16bfe65a22a1",
        "colab": {
          "base_uri": "https://localhost:8080/"
        }
      },
      "source": [
        "spark.sql(\"select * from movies join alldata on movies.movieId=alldata.movieId\").show()"
      ],
      "execution_count": null,
      "outputs": [
        {
          "output_type": "stream",
          "text": [
            "+-------+--------------------+------+------+-------+------+----------+\n",
            "|movieId|               title|genres|userId|movieId|rating|prediction|\n",
            "+-------+--------------------+------+------+-------+------+----------+\n",
            "|    148|Awfully Big Adven...| Drama|   191|    148|   5.0|  5.224857|\n",
            "|    471|Hudsucker Proxy, ...|Comedy|   133|    471|   4.0|  3.745387|\n",
            "|    471|Hudsucker Proxy, ...|Comedy|   597|    471|   2.0| 3.5172842|\n",
            "|    471|Hudsucker Proxy, ...|Comedy|   385|    471|   4.0| 3.6759431|\n",
            "|    471|Hudsucker Proxy, ...|Comedy|   436|    471|   3.0|   4.25896|\n",
            "|    471|Hudsucker Proxy, ...|Comedy|   602|    471|   4.0| 3.7121518|\n",
            "|    471|Hudsucker Proxy, ...|Comedy|    91|    471|   1.0| 2.1412864|\n",
            "|    471|Hudsucker Proxy, ...|Comedy|   409|    471|   3.0|  2.892838|\n",
            "|    471|Hudsucker Proxy, ...|Comedy|   372|    471|   3.0| 4.6815906|\n",
            "|    471|Hudsucker Proxy, ...|Comedy|   599|    471|   2.5| 4.0649853|\n",
            "|    471|Hudsucker Proxy, ...|Comedy|   603|    471|   4.0| 4.4310017|\n",
            "|    471|Hudsucker Proxy, ...|Comedy|   182|    471|   4.5| 3.7322612|\n",
            "|    471|Hudsucker Proxy, ...|Comedy|   218|    471|   4.0| 3.3882406|\n",
            "|    471|Hudsucker Proxy, ...|Comedy|   474|    471|   3.0| 2.7381477|\n",
            "|    471|Hudsucker Proxy, ...|Comedy|   500|    471|   1.0| 1.2007028|\n",
            "|    471|Hudsucker Proxy, ...|Comedy|    57|    471|   3.0| 2.9827836|\n",
            "|    471|Hudsucker Proxy, ...|Comedy|   462|    471|   2.5| 3.2799127|\n",
            "|    471|Hudsucker Proxy, ...|Comedy|   387|    471|   3.0| 3.3425484|\n",
            "|    471|Hudsucker Proxy, ...|Comedy|   610|    471|   4.0| 3.5155776|\n",
            "|    471|Hudsucker Proxy, ...|Comedy|   217|    471|   2.0| 2.5376716|\n",
            "+-------+--------------------+------+------+-------+------+----------+\n",
            "only showing top 20 rows\n",
            "\n"
          ],
          "name": "stdout"
        }
      ]
    },
    {
      "cell_type": "code",
      "metadata": {
        "id": "T9wBrpzxAZsM",
        "outputId": "ba0c2f00-3715-4d89-e070-7c0cf1b669c9",
        "colab": {
          "base_uri": "https://localhost:8080/"
        }
      },
      "source": [
        "print('Recommended top users (e.g. 1 top user) for all items with the corresponding predicted ratings:')\n",
        "bestModel.recommendForAllItems(1).show(5)\n",
        "\n",
        "print('-'*50)\n",
        "\n",
        "print('Recommended top items (e.g. 1 top item) for all users with the corresponding predicted ratings:')\n",
        "bestModel.recommendForAllUsers(1).show(5)"
      ],
      "execution_count": null,
      "outputs": [
        {
          "output_type": "stream",
          "text": [
            "Recommended top users (e.g. 1 top user) for all items with the corresponding predicted ratings:\n",
            "+-------+------------------+\n",
            "|movieId|   recommendations|\n",
            "+-------+------------------+\n",
            "|   1580|  [[77, 6.348218]]|\n",
            "|   4900|  [[598, 9.95858]]|\n",
            "|   5300|[[257, 5.5355697]]|\n",
            "|   6620|  [[99, 9.402206]]|\n",
            "|   7340| [[407, 6.056511]]|\n",
            "+-------+------------------+\n",
            "only showing top 5 rows\n",
            "\n",
            "--------------------------------------------------\n",
            "Recommended top items (e.g. 1 top item) for all users with the corresponding predicted ratings:\n",
            "+------+--------------------+\n",
            "|userId|     recommendations|\n",
            "+------+--------------------+\n",
            "|   471|  [[1173, 8.669576]]|\n",
            "|   463| [[2843, 6.5206275]]|\n",
            "|   496|  [[3266, 9.939844]]|\n",
            "|   148|[[119141, 7.27523...|\n",
            "|   540| [[5992, 6.6425705]]|\n",
            "+------+--------------------+\n",
            "only showing top 5 rows\n",
            "\n"
          ],
          "name": "stdout"
        }
      ]
    },
    {
      "cell_type": "markdown",
      "metadata": {
        "id": "uUOqtN4AG0j-"
      },
      "source": [
        "# Recommend movies to selected users (by userID)"
      ]
    },
    {
      "cell_type": "code",
      "metadata": {
        "id": "Lw0cTqa3JDrW",
        "outputId": "330014f5-9726-4966-f497-0fa38eedc71a",
        "colab": {
          "base_uri": "https://localhost:8080/"
        }
      },
      "source": [
        "!pip install koalas\n"
      ],
      "execution_count": null,
      "outputs": [
        {
          "output_type": "stream",
          "text": [
            "Requirement already satisfied: koalas in /usr/local/lib/python3.6/dist-packages (1.3.0)\n",
            "Requirement already satisfied: numpy<1.19.0,>=1.14 in /usr/local/lib/python3.6/dist-packages (from koalas) (1.18.5)\n",
            "Requirement already satisfied: pandas>=0.23.2 in /usr/local/lib/python3.6/dist-packages (from koalas) (1.1.3)\n",
            "Requirement already satisfied: pyarrow>=0.10 in /usr/local/lib/python3.6/dist-packages (from koalas) (2.0.0)\n",
            "Requirement already satisfied: matplotlib<3.3.0,>=3.0.0 in /usr/local/lib/python3.6/dist-packages (from koalas) (3.2.2)\n",
            "Requirement already satisfied: python-dateutil>=2.7.3 in /usr/local/lib/python3.6/dist-packages (from pandas>=0.23.2->koalas) (2.8.1)\n",
            "Requirement already satisfied: pytz>=2017.2 in /usr/local/lib/python3.6/dist-packages (from pandas>=0.23.2->koalas) (2018.9)\n",
            "Requirement already satisfied: kiwisolver>=1.0.1 in /usr/local/lib/python3.6/dist-packages (from matplotlib<3.3.0,>=3.0.0->koalas) (1.2.0)\n",
            "Requirement already satisfied: cycler>=0.10 in /usr/local/lib/python3.6/dist-packages (from matplotlib<3.3.0,>=3.0.0->koalas) (0.10.0)\n",
            "Requirement already satisfied: pyparsing!=2.0.4,!=2.1.2,!=2.1.6,>=2.0.1 in /usr/local/lib/python3.6/dist-packages (from matplotlib<3.3.0,>=3.0.0->koalas) (2.4.7)\n",
            "Requirement already satisfied: six>=1.5 in /usr/local/lib/python3.6/dist-packages (from python-dateutil>=2.7.3->pandas>=0.23.2->koalas) (1.15.0)\n"
          ],
          "name": "stdout"
        }
      ]
    },
    {
      "cell_type": "code",
      "metadata": {
        "id": "-sDwBdQ_JOhp"
      },
      "source": [
        "pip install pyarrow==2.0.*"
      ],
      "execution_count": null,
      "outputs": []
    },
    {
      "cell_type": "code",
      "metadata": {
        "id": "XI2siJs2JseR"
      },
      "source": [
        "import databricks.koalas as ks"
      ],
      "execution_count": null,
      "outputs": []
    },
    {
      "cell_type": "code",
      "metadata": {
        "id": "l77lTu8l4-wW",
        "outputId": "7e8bf2bd-3720-4574-b5c1-336986af9f01",
        "colab": {
          "base_uri": "https://localhost:8080/",
          "height": 52
        }
      },
      "source": [
        "\"\"\"\n",
        "recommendForAllUsers(int):\n",
        "\n",
        "Returns top numItems items recommended for each user, for all users.\n",
        "Parameters:\n",
        "numItems - max number of recommendations for each user\n",
        "\n",
        "\"\"\""
      ],
      "execution_count": null,
      "outputs": [
        {
          "output_type": "execute_result",
          "data": {
            "application/vnd.google.colaboratory.intrinsic+json": {
              "type": "string"
            },
            "text/plain": [
              "'\\nrecommendForAllUsers(int):\\n\\nReturns top numItems items recommended for each user, for all users.\\nParameters:\\nnumItems - max number of recommendations for each user\\n\\n'"
            ]
          },
          "metadata": {
            "tags": []
          },
          "execution_count": 59
        }
      ]
    },
    {
      "cell_type": "code",
      "metadata": {
        "id": "8NCCe_7rHWMt"
      },
      "source": [
        "itemRecs = bestModel.recommendForAllUsers(10)"
      ],
      "execution_count": null,
      "outputs": []
    },
    {
      "cell_type": "code",
      "metadata": {
        "id": "PNf3JPd_8qmb",
        "outputId": "3090e9fc-0d9d-4f3c-fe14-ad7bc4c11505",
        "colab": {
          "base_uri": "https://localhost:8080/"
        }
      },
      "source": [
        "itemRecs.show(10)"
      ],
      "execution_count": null,
      "outputs": [
        {
          "output_type": "stream",
          "text": [
            "+------+--------------------+\n",
            "|userId|     recommendations|\n",
            "+------+--------------------+\n",
            "|   471|[[1173, 8.669576]...|\n",
            "|   463|[[2843, 6.5206275...|\n",
            "|   496|[[3266, 9.939844]...|\n",
            "|   148|[[119141, 7.27523...|\n",
            "|   540|[[5992, 6.6425705...|\n",
            "|   392|[[720, 9.802321],...|\n",
            "|   243|[[53127, 11.5328]...|\n",
            "|    31|[[3441, 9.09947],...|\n",
            "|   516|[[89904, 6.804111...|\n",
            "|   580|[[1303, 6.52155],...|\n",
            "+------+--------------------+\n",
            "only showing top 10 rows\n",
            "\n"
          ],
          "name": "stdout"
        }
      ]
    },
    {
      "cell_type": "code",
      "metadata": {
        "id": "DM_gugHtZ00H"
      },
      "source": [
        "itemRecs_ks=itemRecs.to_koalas()\n",
        "movies_ks=movies_df.to_koalas()"
      ],
      "execution_count": null,
      "outputs": []
    },
    {
      "cell_type": "code",
      "metadata": {
        "id": "DrTEhMAceg9A",
        "outputId": "68fba162-82c8-461d-a4af-64c47763b647",
        "colab": {
          "base_uri": "https://localhost:8080/",
          "height": 393
        }
      },
      "source": [
        "def movieRecommendation(inputId):\n",
        "  recs_list=[]\n",
        "  if inputId < 610: # make sure we can find that user id in our data \n",
        "    for recs in itemRecs_ks.loc[str(inputId), 'recommendations']:\n",
        "      recs_list.append(str(recs[0]))\n",
        "  return (movies_ks[movies_ks['movieId'].isin(recs_list)])\n",
        "\n",
        "print(\"Recommended movies for selected user are as follows.\")\n",
        "movieRecommendation(int(input(\"enter user id: \")))"
      ],
      "execution_count": null,
      "outputs": [
        {
          "output_type": "stream",
          "text": [
            "Recommended movies for selected user are as follows.\n",
            "enter user id: 134\n"
          ],
          "name": "stdout"
        },
        {
          "output_type": "execute_result",
          "data": {
            "text/html": [
              "<div>\n",
              "<style scoped>\n",
              "    .dataframe tbody tr th:only-of-type {\n",
              "        vertical-align: middle;\n",
              "    }\n",
              "\n",
              "    .dataframe tbody tr th {\n",
              "        vertical-align: top;\n",
              "    }\n",
              "\n",
              "    .dataframe thead th {\n",
              "        text-align: right;\n",
              "    }\n",
              "</style>\n",
              "<table border=\"1\" class=\"dataframe\">\n",
              "  <thead>\n",
              "    <tr style=\"text-align: right;\">\n",
              "      <th></th>\n",
              "      <th>movieId</th>\n",
              "      <th>title</th>\n",
              "      <th>genres</th>\n",
              "    </tr>\n",
              "  </thead>\n",
              "  <tbody>\n",
              "    <tr>\n",
              "      <th>278</th>\n",
              "      <td>319</td>\n",
              "      <td>Shallow Grave (1994)</td>\n",
              "      <td>Comedy|Drama|Thriller</td>\n",
              "    </tr>\n",
              "    <tr>\n",
              "      <th>720</th>\n",
              "      <td>940</td>\n",
              "      <td>Adventures of Robin Hood, The (1938)</td>\n",
              "      <td>Action|Adventure|Romance</td>\n",
              "    </tr>\n",
              "    <tr>\n",
              "      <th>1692</th>\n",
              "      <td>2275</td>\n",
              "      <td>Six-String Samurai (1998)</td>\n",
              "      <td>Action|Adventure|Sci-Fi</td>\n",
              "    </tr>\n",
              "    <tr>\n",
              "      <th>2277</th>\n",
              "      <td>3020</td>\n",
              "      <td>Falling Down (1993)</td>\n",
              "      <td>Action|Drama</td>\n",
              "    </tr>\n",
              "    <tr>\n",
              "      <th>2684</th>\n",
              "      <td>3594</td>\n",
              "      <td>Center Stage (2000)</td>\n",
              "      <td>Drama|Musical</td>\n",
              "    </tr>\n",
              "    <tr>\n",
              "      <th>2691</th>\n",
              "      <td>3608</td>\n",
              "      <td>Pee-wee's Big Adventure (1985)</td>\n",
              "      <td>Adventure|Comedy</td>\n",
              "    </tr>\n",
              "    <tr>\n",
              "      <th>3240</th>\n",
              "      <td>4380</td>\n",
              "      <td>Princess and the Warrior, The (Krieger und die...</td>\n",
              "      <td>Drama|Romance</td>\n",
              "    </tr>\n",
              "    <tr>\n",
              "      <th>4009</th>\n",
              "      <td>5666</td>\n",
              "      <td>Rules of Attraction, The (2002)</td>\n",
              "      <td>Comedy|Drama|Romance|Thriller</td>\n",
              "    </tr>\n",
              "    <tr>\n",
              "      <th>4969</th>\n",
              "      <td>7579</td>\n",
              "      <td>Pride and Prejudice (1940)</td>\n",
              "      <td>Comedy|Drama|Romance</td>\n",
              "    </tr>\n",
              "    <tr>\n",
              "      <th>5420</th>\n",
              "      <td>25850</td>\n",
              "      <td>Holiday (1938)</td>\n",
              "      <td>Comedy|Drama|Romance</td>\n",
              "    </tr>\n",
              "  </tbody>\n",
              "</table>\n",
              "</div>"
            ],
            "text/plain": [
              "     movieId                                                                 title                         genres\n",
              "278      319                                                  Shallow Grave (1994)          Comedy|Drama|Thriller\n",
              "720      940                                  Adventures of Robin Hood, The (1938)       Action|Adventure|Romance\n",
              "1692    2275                                             Six-String Samurai (1998)        Action|Adventure|Sci-Fi\n",
              "2277    3020                                                   Falling Down (1993)                   Action|Drama\n",
              "2684    3594                                                   Center Stage (2000)                  Drama|Musical\n",
              "2691    3608                                        Pee-wee's Big Adventure (1985)               Adventure|Comedy\n",
              "3240    4380  Princess and the Warrior, The (Krieger und die Kaiserin, Der) (2000)                  Drama|Romance\n",
              "4009    5666                                       Rules of Attraction, The (2002)  Comedy|Drama|Romance|Thriller\n",
              "4969    7579                                            Pride and Prejudice (1940)           Comedy|Drama|Romance\n",
              "5420   25850                                                        Holiday (1938)           Comedy|Drama|Romance"
            ]
          },
          "metadata": {
            "tags": []
          },
          "execution_count": 61
        }
      ]
    },
    {
      "cell_type": "markdown",
      "metadata": {
        "id": "Rovgn493BRE7"
      },
      "source": [
        "# Alternative way to recommend movies to a specific user\n",
        "\n",
        "e.g: userId = 10"
      ]
    },
    {
      "cell_type": "code",
      "metadata": {
        "id": "Col4B6YMBXoE",
        "outputId": "9de41b57-8fa5-4730-9c10-cf9a058406f3",
        "colab": {
          "base_uri": "https://localhost:8080/"
        }
      },
      "source": [
        "# see historical rating of the user\n",
        "user_history = training.filter(training['userId']==10)\n",
        "user_history.show()"
      ],
      "execution_count": null,
      "outputs": [
        {
          "output_type": "stream",
          "text": [
            "+------+-------+------+\n",
            "|userId|movieId|rating|\n",
            "+------+-------+------+\n",
            "|    10|    296|   1.0|\n",
            "|    10|    588|   4.0|\n",
            "|    10|    597|   3.5|\n",
            "|    10|    912|   4.0|\n",
            "|    10|   1088|   3.0|\n",
            "|    10|   1247|   3.0|\n",
            "|    10|   1307|   3.0|\n",
            "|    10|   1784|   3.5|\n",
            "|    10|   1907|   4.0|\n",
            "|    10|   2671|   3.5|\n",
            "|    10|   2762|   0.5|\n",
            "|    10|   2959|   0.5|\n",
            "|    10|   3578|   4.0|\n",
            "|    10|   4246|   3.5|\n",
            "|    10|   4306|   4.5|\n",
            "|    10|   4447|   4.5|\n",
            "|    10|   4993|   4.0|\n",
            "|    10|   5066|   3.0|\n",
            "|    10|   5377|   3.5|\n",
            "|    10|   5620|   3.0|\n",
            "+------+-------+------+\n",
            "only showing top 20 rows\n",
            "\n"
          ],
          "name": "stdout"
        }
      ]
    },
    {
      "cell_type": "code",
      "metadata": {
        "id": "aRFC8ITsBv27",
        "outputId": "73685b08-4952-4be3-d76d-f66c3a540288",
        "colab": {
          "base_uri": "https://localhost:8080/"
        }
      },
      "source": [
        "# a list of movies we are thinking to offer\n",
        "user_suggest = test.filter(training['userId']==10).select(['movieId', 'userId'])\n",
        "user_suggest.show()"
      ],
      "execution_count": null,
      "outputs": [
        {
          "output_type": "stream",
          "text": [
            "+-------+------+\n",
            "|movieId|userId|\n",
            "+-------+------+\n",
            "|    356|    10|\n",
            "|   1028|    10|\n",
            "|   2571|    10|\n",
            "|   2858|    10|\n",
            "|   3882|    10|\n",
            "|   4995|    10|\n",
            "|   5952|    10|\n",
            "|   7151|    10|\n",
            "|   7153|    10|\n",
            "|   7293|    10|\n",
            "|   7375|    10|\n",
            "|   7458|    10|\n",
            "|   8533|    10|\n",
            "|  41285|    10|\n",
            "|  47099|    10|\n",
            "|  49272|    10|\n",
            "|  51662|    10|\n",
            "|  51705|    10|\n",
            "|  51834|    10|\n",
            "|  56949|    10|\n",
            "+-------+------+\n",
            "only showing top 20 rows\n",
            "\n"
          ],
          "name": "stdout"
        }
      ]
    },
    {
      "cell_type": "code",
      "metadata": {
        "id": "IhZM_bZ8B8lD",
        "outputId": "5c307b17-4623-4fc5-a0d4-26d55c839d03",
        "colab": {
          "base_uri": "https://localhost:8080/"
        }
      },
      "source": [
        "# offer movies with a high predicted rating\n",
        "user_offer = bestModel.transform(user_suggest)\n",
        "user_offer.orderBy('prediction', ascending=False).limit(10).show()"
      ],
      "execution_count": null,
      "outputs": [
        {
          "output_type": "stream",
          "text": [
            "+-------+------+----------+\n",
            "|movieId|userId|prediction|\n",
            "+-------+------+----------+\n",
            "|   8533|    10|  5.078534|\n",
            "|   2858|    10|  4.180396|\n",
            "|  41285|    10| 4.0816617|\n",
            "|   7458|    10| 4.0203485|\n",
            "|  63992|    10| 3.9691901|\n",
            "|  95543|    10| 3.9166398|\n",
            "|  51705|    10| 3.9032626|\n",
            "|  51662|    10| 3.7648196|\n",
            "|   2571|    10| 3.7131803|\n",
            "|  58047|    10| 3.6296153|\n",
            "+-------+------+----------+\n",
            "\n"
          ],
          "name": "stdout"
        }
      ]
    },
    {
      "cell_type": "code",
      "metadata": {
        "id": "-gNTK6DvE3yS"
      },
      "source": [
        "user_offer.registerTempTable(\"user_offer\")"
      ],
      "execution_count": null,
      "outputs": []
    },
    {
      "cell_type": "code",
      "metadata": {
        "id": "wcFBjax_CqmV",
        "outputId": "c10a70d3-78c8-4bd3-d13d-630111c2c50a",
        "colab": {
          "base_uri": "https://localhost:8080/",
          "height": 948
        }
      },
      "source": [
        "recs = spark.sql(\"select title from movies inner join user_offer on movies.movieId == user_offer.movieId\")\n",
        "recs.toPandas()"
      ],
      "execution_count": null,
      "outputs": [
        {
          "output_type": "execute_result",
          "data": {
            "text/html": [
              "<div>\n",
              "<style scoped>\n",
              "    .dataframe tbody tr th:only-of-type {\n",
              "        vertical-align: middle;\n",
              "    }\n",
              "\n",
              "    .dataframe tbody tr th {\n",
              "        vertical-align: top;\n",
              "    }\n",
              "\n",
              "    .dataframe thead th {\n",
              "        text-align: right;\n",
              "    }\n",
              "</style>\n",
              "<table border=\"1\" class=\"dataframe\">\n",
              "  <thead>\n",
              "    <tr style=\"text-align: right;\">\n",
              "      <th></th>\n",
              "      <th>title</th>\n",
              "    </tr>\n",
              "  </thead>\n",
              "  <tbody>\n",
              "    <tr>\n",
              "      <th>0</th>\n",
              "      <td>Match Point (2005)</td>\n",
              "    </tr>\n",
              "    <tr>\n",
              "      <th>1</th>\n",
              "      <td>50 First Dates (2004)</td>\n",
              "    </tr>\n",
              "    <tr>\n",
              "      <th>2</th>\n",
              "      <td>Twilight (2008)</td>\n",
              "    </tr>\n",
              "    <tr>\n",
              "      <th>3</th>\n",
              "      <td>Becoming Jane (2007)</td>\n",
              "    </tr>\n",
              "    <tr>\n",
              "      <th>4</th>\n",
              "      <td>27 Dresses (2008)</td>\n",
              "    </tr>\n",
              "    <tr>\n",
              "      <th>5</th>\n",
              "      <td>Casino Royale (2006)</td>\n",
              "    </tr>\n",
              "    <tr>\n",
              "      <th>6</th>\n",
              "      <td>Beautiful Mind, A (2001)</td>\n",
              "    </tr>\n",
              "    <tr>\n",
              "      <th>7</th>\n",
              "      <td>Mary Poppins (1964)</td>\n",
              "    </tr>\n",
              "    <tr>\n",
              "      <th>8</th>\n",
              "      <td>Yes Man (2008)</td>\n",
              "    </tr>\n",
              "    <tr>\n",
              "      <th>9</th>\n",
              "      <td>Matrix, The (1999)</td>\n",
              "    </tr>\n",
              "    <tr>\n",
              "      <th>10</th>\n",
              "      <td>Notebook, The (2004)</td>\n",
              "    </tr>\n",
              "    <tr>\n",
              "      <th>11</th>\n",
              "      <td>Brave (2012)</td>\n",
              "    </tr>\n",
              "    <tr>\n",
              "      <th>12</th>\n",
              "      <td>Amazing Spider-Man, The (2012)</td>\n",
              "    </tr>\n",
              "    <tr>\n",
              "      <th>13</th>\n",
              "      <td>300 (2007)</td>\n",
              "    </tr>\n",
              "    <tr>\n",
              "      <th>14</th>\n",
              "      <td>Definitely, Maybe (2008)</td>\n",
              "    </tr>\n",
              "    <tr>\n",
              "      <th>15</th>\n",
              "      <td>Girl with a Pearl Earring (2003)</td>\n",
              "    </tr>\n",
              "    <tr>\n",
              "      <th>16</th>\n",
              "      <td>Valentine's Day (2010)</td>\n",
              "    </tr>\n",
              "    <tr>\n",
              "      <th>17</th>\n",
              "      <td>Prince &amp; Me, The (2004)</td>\n",
              "    </tr>\n",
              "    <tr>\n",
              "      <th>18</th>\n",
              "      <td>Help, The (2011)</td>\n",
              "    </tr>\n",
              "    <tr>\n",
              "      <th>19</th>\n",
              "      <td>King's Speech, The (2010)</td>\n",
              "    </tr>\n",
              "    <tr>\n",
              "      <th>20</th>\n",
              "      <td>Forrest Gump (1994)</td>\n",
              "    </tr>\n",
              "    <tr>\n",
              "      <th>21</th>\n",
              "      <td>American Beauty (1999)</td>\n",
              "    </tr>\n",
              "    <tr>\n",
              "      <th>22</th>\n",
              "      <td>Bring It On (2000)</td>\n",
              "    </tr>\n",
              "    <tr>\n",
              "      <th>23</th>\n",
              "      <td>Pursuit of Happyness, The (2006)</td>\n",
              "    </tr>\n",
              "    <tr>\n",
              "      <th>24</th>\n",
              "      <td>Lord of the Rings: The Two Towers, The (2002)</td>\n",
              "    </tr>\n",
              "    <tr>\n",
              "      <th>25</th>\n",
              "      <td>Lord of the Rings: The Return of the King, The...</td>\n",
              "    </tr>\n",
              "    <tr>\n",
              "      <th>26</th>\n",
              "      <td>Troy (2004)</td>\n",
              "    </tr>\n",
              "    <tr>\n",
              "      <th>27</th>\n",
              "      <td>Ice Age 4: Continental Drift (2012)</td>\n",
              "    </tr>\n",
              "    <tr>\n",
              "      <th>28</th>\n",
              "      <td>Priceless (Hors de prix) (2006)</td>\n",
              "    </tr>\n",
              "  </tbody>\n",
              "</table>\n",
              "</div>"
            ],
            "text/plain": [
              "                                                title\n",
              "0                                  Match Point (2005)\n",
              "1                               50 First Dates (2004)\n",
              "2                                     Twilight (2008)\n",
              "3                                Becoming Jane (2007)\n",
              "4                                   27 Dresses (2008)\n",
              "5                                Casino Royale (2006)\n",
              "6                            Beautiful Mind, A (2001)\n",
              "7                                 Mary Poppins (1964)\n",
              "8                                      Yes Man (2008)\n",
              "9                                  Matrix, The (1999)\n",
              "10                               Notebook, The (2004)\n",
              "11                                       Brave (2012)\n",
              "12                     Amazing Spider-Man, The (2012)\n",
              "13                                         300 (2007)\n",
              "14                           Definitely, Maybe (2008)\n",
              "15                   Girl with a Pearl Earring (2003)\n",
              "16                             Valentine's Day (2010)\n",
              "17                            Prince & Me, The (2004)\n",
              "18                                   Help, The (2011)\n",
              "19                          King's Speech, The (2010)\n",
              "20                                Forrest Gump (1994)\n",
              "21                             American Beauty (1999)\n",
              "22                                 Bring It On (2000)\n",
              "23                   Pursuit of Happyness, The (2006)\n",
              "24      Lord of the Rings: The Two Towers, The (2002)\n",
              "25  Lord of the Rings: The Return of the King, The...\n",
              "26                                        Troy (2004)\n",
              "27                Ice Age 4: Continental Drift (2012)\n",
              "28                    Priceless (Hors de prix) (2006)"
            ]
          },
          "metadata": {
            "tags": []
          },
          "execution_count": 91
        }
      ]
    },
    {
      "cell_type": "markdown",
      "metadata": {
        "id": "R9wPrw7pJcaz"
      },
      "source": [
        "# Find the similar movies given a movie title"
      ]
    },
    {
      "cell_type": "code",
      "metadata": {
        "id": "c2grow_2JcE1"
      },
      "source": [
        "itemFactors=bestModel.itemFactors.to_koalas()"
      ],
      "execution_count": null,
      "outputs": []
    },
    {
      "cell_type": "code",
      "metadata": {
        "id": "gQhYa0r3Jr9C",
        "outputId": "7a7331de-509c-4ed0-d46d-0bbdf8e08728",
        "colab": {
          "base_uri": "https://localhost:8080/"
        }
      },
      "source": [
        "itemFactors.print_schema()"
      ],
      "execution_count": null,
      "outputs": [
        {
          "output_type": "stream",
          "text": [
            "root\n",
            " |-- id: integer (nullable = false)\n",
            " |-- features: array (nullable = true)\n",
            " |    |-- element: float (containsNull = false)\n",
            "\n"
          ],
          "name": "stdout"
        },
        {
          "output_type": "stream",
          "text": [
            "/usr/local/lib/python3.6/dist-packages/databricks/koalas/frame.py:5624: FutureWarning: DataFrame.print_schema is deprecated as of DataFrame.spark.print_schema. Please use the API instead.\n",
            "  FutureWarning,\n"
          ],
          "name": "stderr"
        }
      ]
    },
    {
      "cell_type": "code",
      "metadata": {
        "id": "sh5ob-5fO2m0"
      },
      "source": [
        "# merging itemFactors and movies_fs\n",
        "# we can ask user to enter a movie name and find its movie id, \n",
        "# which is used in a function called similarMovies to find its top 10 similar movies.\n",
        "# It's easier for an user to know the movie name than knowing movieId, thus we want the user to search by movie name.\n",
        "\n",
        "merge_kdf = movies_ks.merge(itemFactors, left_on='movieId', right_on='id')"
      ],
      "execution_count": null,
      "outputs": []
    },
    {
      "cell_type": "code",
      "metadata": {
        "id": "ydd2ljgFQApL",
        "outputId": "1853f435-9065-4738-dbe7-44910fcc6089",
        "colab": {
          "base_uri": "https://localhost:8080/",
          "height": 289
        }
      },
      "source": [
        "merge_kdf.head()"
      ],
      "execution_count": null,
      "outputs": [
        {
          "output_type": "execute_result",
          "data": {
            "text/html": [
              "<div>\n",
              "<style scoped>\n",
              "    .dataframe tbody tr th:only-of-type {\n",
              "        vertical-align: middle;\n",
              "    }\n",
              "\n",
              "    .dataframe tbody tr th {\n",
              "        vertical-align: top;\n",
              "    }\n",
              "\n",
              "    .dataframe thead th {\n",
              "        text-align: right;\n",
              "    }\n",
              "</style>\n",
              "<table border=\"1\" class=\"dataframe\">\n",
              "  <thead>\n",
              "    <tr style=\"text-align: right;\">\n",
              "      <th></th>\n",
              "      <th>movieId</th>\n",
              "      <th>title</th>\n",
              "      <th>genres</th>\n",
              "      <th>id</th>\n",
              "      <th>features</th>\n",
              "    </tr>\n",
              "  </thead>\n",
              "  <tbody>\n",
              "    <tr>\n",
              "      <th>0</th>\n",
              "      <td>10</td>\n",
              "      <td>GoldenEye (1995)</td>\n",
              "      <td>Action|Adventure|Thriller</td>\n",
              "      <td>10</td>\n",
              "      <td>[1.2526657581329346, -2.8258423805236816, 0.77...</td>\n",
              "    </tr>\n",
              "    <tr>\n",
              "      <th>1</th>\n",
              "      <td>20</td>\n",
              "      <td>Money Train (1995)</td>\n",
              "      <td>Action|Comedy|Crime|Drama|Thriller</td>\n",
              "      <td>20</td>\n",
              "      <td>[0.4498746395111084, -2.6670618057250977, 1.12...</td>\n",
              "    </tr>\n",
              "    <tr>\n",
              "      <th>2</th>\n",
              "      <td>30</td>\n",
              "      <td>Shanghai Triad (Yao a yao yao dao waipo qiao) ...</td>\n",
              "      <td>Crime|Drama</td>\n",
              "      <td>30</td>\n",
              "      <td>[0.6992306113243103, -2.93139910697937, 1.3934...</td>\n",
              "    </tr>\n",
              "    <tr>\n",
              "      <th>3</th>\n",
              "      <td>40</td>\n",
              "      <td>Cry, the Beloved Country (1995)</td>\n",
              "      <td>Drama</td>\n",
              "      <td>40</td>\n",
              "      <td>[1.8337295055389404, 0.16487917304039001, -0.8...</td>\n",
              "    </tr>\n",
              "    <tr>\n",
              "      <th>4</th>\n",
              "      <td>50</td>\n",
              "      <td>Usual Suspects, The (1995)</td>\n",
              "      <td>Crime|Mystery|Thriller</td>\n",
              "      <td>50</td>\n",
              "      <td>[1.3172078132629395, -3.900089740753174, 1.348...</td>\n",
              "    </tr>\n",
              "  </tbody>\n",
              "</table>\n",
              "</div>"
            ],
            "text/plain": [
              "  movieId                                                 title                              genres  id                                                                                                                                                                                                          features\n",
              "0      10                                      GoldenEye (1995)           Action|Adventure|Thriller  10         [1.2526657581329346, -2.8258423805236816, 0.7771525382995605, 0.19640859961509705, 2.236043691635132, 0.14243966341018677, 0.6967417001724243, 0.6014055609703064, 0.7122070789337158, 1.202601671218872]\n",
              "1      20                                    Money Train (1995)  Action|Comedy|Crime|Drama|Thriller  20       [0.4498746395111084, -2.6670618057250977, 1.123080849647522, 1.4607652425765991, 1.3631728887557983, -0.6574316024780273, 1.0124704837799072, -1.291054129600525, -0.33998963236808777, 1.5661460161209106]\n",
              "2      30  Shanghai Triad (Yao a yao yao dao waipo qiao) (1995)                         Crime|Drama  30          [0.6992306113243103, -2.93139910697937, 1.3934314250946045, 0.3060007393360138, -0.6996258497238159, -1.5342367887496948, 1.079509973526001, 0.5408619046211243, 0.3335420489311218, 1.6693116426467896]\n",
              "3      40                       Cry, the Beloved Country (1995)                               Drama  40  [1.8337295055389404, 0.16487917304039001, -0.8328757882118225, -0.7052626609802246, 1.544025182723999, -0.44170427322387695, 0.053377486765384674, 0.3828914761543274, -0.21349209547042847, 1.0788692235946655]\n",
              "4      50                            Usual Suspects, The (1995)              Crime|Mystery|Thriller  50       [1.3172078132629395, -3.900089740753174, 1.3488742113113403, -0.16975639760494232, 1.964267611503601, -0.5708386898040771, 1.0886995792388916, 0.16650331020355225, 0.1290532946586609, 1.5529690980911255]"
            ]
          },
          "metadata": {
            "tags": []
          },
          "execution_count": 109
        }
      ]
    },
    {
      "cell_type": "code",
      "metadata": {
        "id": "FbfcWegwfrQa",
        "outputId": "4224a049-552a-41b6-b7ae-762787c53ec6",
        "colab": {
          "base_uri": "https://localhost:8080/"
        }
      },
      "source": [
        "merge_kdf.print_schema()"
      ],
      "execution_count": null,
      "outputs": [
        {
          "output_type": "stream",
          "text": [
            "root\n",
            " |-- movieId: string (nullable = true)\n",
            " |-- title: string (nullable = true)\n",
            " |-- genres: string (nullable = true)\n",
            " |-- id: integer (nullable = false)\n",
            " |-- features: array (nullable = true)\n",
            " |    |-- element: float (containsNull = false)\n",
            "\n"
          ],
          "name": "stdout"
        },
        {
          "output_type": "stream",
          "text": [
            "/usr/local/lib/python3.6/dist-packages/databricks/koalas/frame.py:5624: FutureWarning: DataFrame.print_schema is deprecated as of DataFrame.spark.print_schema. Please use the API instead.\n",
            "  FutureWarning,\n"
          ],
          "name": "stderr"
        }
      ]
    },
    {
      "cell_type": "code",
      "metadata": {
        "id": "pmKl4DGOShUJ"
      },
      "source": [
        "# helper function to get movieId when user searches by movie name\n",
        "\n",
        "def _get_mov_id():\n",
        "  title = input(\"Enter movie name: \")\n",
        "  return merge_kdf[merge_kdf.title==title].movieId.values[0]"
      ],
      "execution_count": null,
      "outputs": []
    },
    {
      "cell_type": "code",
      "metadata": {
        "id": "_COGl1O0V_NJ",
        "outputId": "0e341477-785b-4f73-bfc9-362414f6e3e6",
        "colab": {
          "base_uri": "https://localhost:8080/",
          "height": 106
        }
      },
      "source": [
        "_get_mov_id()"
      ],
      "execution_count": null,
      "outputs": [
        {
          "output_type": "stream",
          "text": [
            "Enter movie name: Usual Suspects, The (1995)\n"
          ],
          "name": "stdout"
        },
        {
          "output_type": "stream",
          "text": [
            "/usr/local/lib/python3.6/dist-packages/databricks/koalas/generic.py:567: UserWarning: We recommend using `Series.to_numpy()` instead.\n",
            "  warnings.warn(\"We recommend using `{}.to_numpy()` instead.\".format(type(self).__name__))\n"
          ],
          "name": "stderr"
        },
        {
          "output_type": "execute_result",
          "data": {
            "application/vnd.google.colaboratory.intrinsic+json": {
              "type": "string"
            },
            "text/plain": [
              "'50'"
            ]
          },
          "metadata": {
            "tags": []
          },
          "execution_count": 131
        }
      ]
    },
    {
      "cell_type": "code",
      "metadata": {
        "id": "s1b5XQdxKJqE"
      },
      "source": [
        "# now use the movie id we got above to get top 10 similar movies\n",
        "\n",
        "def similarMovies(inputId, matrix='cosine_similarity'):\n",
        "  try:\n",
        "    movieFeature=merge_kdf.loc[merge_kdf.id==str(inputId),'features'].to_numpy()[0]\n",
        "  except:\n",
        "    return 'There is no movie with id ' + str(inputId)\n",
        "  \n",
        "  if matrix=='cosine_similarity':\n",
        "    similarMovie=pd.DataFrame(columns=('movieId','cosine_similarity'))\n",
        "\n",
        "    for id,feature in itemFactors.to_numpy():\n",
        "      cs=np.dot(movieFeature,feature)/(np.linalg.norm(movieFeature) * np.linalg.norm(feature))\n",
        "      similarMovie=similarMovie.append({'movieId':str(id), 'cosine_similarity':cs}, ignore_index=True)\n",
        "    \n",
        "    similarMovie_cs=similarMovie.sort_values(by=['cosine_similarity'],ascending = False)\n",
        "    \n",
        "  return merge_kdf[['movieId','title','genres']].head(10)"
      ],
      "execution_count": null,
      "outputs": []
    },
    {
      "cell_type": "code",
      "metadata": {
        "id": "j-mpMZAVLi-M",
        "outputId": "973b9833-c58c-46ef-cb95-4f884a56fca1",
        "colab": {
          "base_uri": "https://localhost:8080/",
          "height": 359
        }
      },
      "source": [
        "similarMovies(50)"
      ],
      "execution_count": null,
      "outputs": [
        {
          "output_type": "execute_result",
          "data": {
            "text/html": [
              "<div>\n",
              "<style scoped>\n",
              "    .dataframe tbody tr th:only-of-type {\n",
              "        vertical-align: middle;\n",
              "    }\n",
              "\n",
              "    .dataframe tbody tr th {\n",
              "        vertical-align: top;\n",
              "    }\n",
              "\n",
              "    .dataframe thead th {\n",
              "        text-align: right;\n",
              "    }\n",
              "</style>\n",
              "<table border=\"1\" class=\"dataframe\">\n",
              "  <thead>\n",
              "    <tr style=\"text-align: right;\">\n",
              "      <th></th>\n",
              "      <th>movieId</th>\n",
              "      <th>title</th>\n",
              "      <th>genres</th>\n",
              "    </tr>\n",
              "  </thead>\n",
              "  <tbody>\n",
              "    <tr>\n",
              "      <th>0</th>\n",
              "      <td>10</td>\n",
              "      <td>GoldenEye (1995)</td>\n",
              "      <td>Action|Adventure|Thriller</td>\n",
              "    </tr>\n",
              "    <tr>\n",
              "      <th>1</th>\n",
              "      <td>20</td>\n",
              "      <td>Money Train (1995)</td>\n",
              "      <td>Action|Comedy|Crime|Drama|Thriller</td>\n",
              "    </tr>\n",
              "    <tr>\n",
              "      <th>2</th>\n",
              "      <td>30</td>\n",
              "      <td>Shanghai Triad (Yao a yao yao dao waipo qiao) ...</td>\n",
              "      <td>Crime|Drama</td>\n",
              "    </tr>\n",
              "    <tr>\n",
              "      <th>3</th>\n",
              "      <td>40</td>\n",
              "      <td>Cry, the Beloved Country (1995)</td>\n",
              "      <td>Drama</td>\n",
              "    </tr>\n",
              "    <tr>\n",
              "      <th>4</th>\n",
              "      <td>50</td>\n",
              "      <td>Usual Suspects, The (1995)</td>\n",
              "      <td>Crime|Mystery|Thriller</td>\n",
              "    </tr>\n",
              "    <tr>\n",
              "      <th>5</th>\n",
              "      <td>60</td>\n",
              "      <td>Indian in the Cupboard, The (1995)</td>\n",
              "      <td>Adventure|Children|Fantasy</td>\n",
              "    </tr>\n",
              "    <tr>\n",
              "      <th>6</th>\n",
              "      <td>70</td>\n",
              "      <td>From Dusk Till Dawn (1996)</td>\n",
              "      <td>Action|Comedy|Horror|Thriller</td>\n",
              "    </tr>\n",
              "    <tr>\n",
              "      <th>7</th>\n",
              "      <td>80</td>\n",
              "      <td>White Balloon, The (Badkonake sefid) (1995)</td>\n",
              "      <td>Children|Drama</td>\n",
              "    </tr>\n",
              "    <tr>\n",
              "      <th>8</th>\n",
              "      <td>100</td>\n",
              "      <td>City Hall (1996)</td>\n",
              "      <td>Drama|Thriller</td>\n",
              "    </tr>\n",
              "    <tr>\n",
              "      <th>9</th>\n",
              "      <td>110</td>\n",
              "      <td>Braveheart (1995)</td>\n",
              "      <td>Action|Drama|War</td>\n",
              "    </tr>\n",
              "  </tbody>\n",
              "</table>\n",
              "</div>"
            ],
            "text/plain": [
              "  movieId                                                 title                              genres\n",
              "0      10                                      GoldenEye (1995)           Action|Adventure|Thriller\n",
              "1      20                                    Money Train (1995)  Action|Comedy|Crime|Drama|Thriller\n",
              "2      30  Shanghai Triad (Yao a yao yao dao waipo qiao) (1995)                         Crime|Drama\n",
              "3      40                       Cry, the Beloved Country (1995)                               Drama\n",
              "4      50                            Usual Suspects, The (1995)              Crime|Mystery|Thriller\n",
              "5      60                    Indian in the Cupboard, The (1995)          Adventure|Children|Fantasy\n",
              "6      70                            From Dusk Till Dawn (1996)       Action|Comedy|Horror|Thriller\n",
              "7      80           White Balloon, The (Badkonake sefid) (1995)                      Children|Drama\n",
              "8     100                                      City Hall (1996)                      Drama|Thriller\n",
              "9     110                                     Braveheart (1995)                    Action|Drama|War"
            ]
          },
          "metadata": {
            "tags": []
          },
          "execution_count": 141
        }
      ]
    }
  ]
}