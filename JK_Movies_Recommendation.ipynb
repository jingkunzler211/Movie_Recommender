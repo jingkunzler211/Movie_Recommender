{
  "nbformat": 4,
  "nbformat_minor": 0,
  "metadata": {
    "colab": {
      "name": "JK Movies Recommendation.ipynb",
      "provenance": []
    },
    "kernelspec": {
      "name": "python3",
      "display_name": "Python 3"
    }
  },
  "cells": [
    {
      "cell_type": "markdown",
      "metadata": {
        "id": "boAmxOuRffxm"
      },
      "source": [
        "# **Spark HW2 Movie Recommendation**\n",
        "\n",
        "In this notebook, we will use an Alternating Least Squares (ALS) algorithm with Spark APIs to predict the ratings for the movies in MovieLens small dataset: https://grouplens.org/datasets/movielens/latest/"
      ]
    },
    {
      "cell_type": "markdown",
      "metadata": {
        "id": "bNu1BYdFf8hi"
      },
      "source": [
        "# **Part 0: Data ETL and Data Exploration**"
      ]
    },
    {
      "cell_type": "code",
      "metadata": {
        "id": "843l689kfx8v",
        "colab": {
          "base_uri": "https://localhost:8080/"
        },
        "outputId": "a352a9c8-e40d-489c-e65c-1255c0d0983d"
      },
      "source": [
        "!apt-get update\n",
        "!apt-get install openjdk-8-jdk-headless -qq > /dev/null\n",
        "\n",
        "!wget -q http://apache.forsale.plus/spark/spark-3.0.1/spark-3.0.1-bin-hadoop2.7.tgz\n",
        "!ls\n",
        "!tar xf spark-3.0.1-bin-hadoop2.7.tgz\n",
        "!wget -q http://apache.mirrors.pair.com/spark/spark-3.0.1/spark-3.0.1-bin-hadoop2.7.tgz"
      ],
      "execution_count": null,
      "outputs": [
        {
          "output_type": "stream",
          "text": [
            "\r0% [Working]\r            \rGet:1 http://security.ubuntu.com/ubuntu bionic-security InRelease [88.7 kB]\n",
            "\r0% [Connecting to archive.ubuntu.com (91.189.88.142)] [1 InRelease 14.2 kB/88.7\r0% [Waiting for headers] [Connected to cloud.r-project.org (13.32.86.12)] [Wait\r0% [1 InRelease gpgv 88.7 kB] [Waiting for headers] [Waiting for headers] [Wait\r                                                                               \rIgn:2 https://developer.download.nvidia.com/compute/cuda/repos/ubuntu1804/x86_64  InRelease\n",
            "\r0% [1 InRelease gpgv 88.7 kB] [Waiting for headers] [Waiting for headers] [Wait\r                                                                               \rGet:3 https://cloud.r-project.org/bin/linux/ubuntu bionic-cran40/ InRelease [3,626 B]\n",
            "\r0% [1 InRelease gpgv 88.7 kB] [Waiting for headers] [3 InRelease 3,626 B/3,626 \r0% [1 InRelease gpgv 88.7 kB] [Waiting for headers] [Waiting for headers] [Wait\r                                                                               \rGet:4 http://ppa.launchpad.net/c2d4u.team/c2d4u4.0+/ubuntu bionic InRelease [15.9 kB]\n",
            "Hit:5 http://archive.ubuntu.com/ubuntu bionic InRelease\n",
            "Ign:6 https://developer.download.nvidia.com/compute/machine-learning/repos/ubuntu1804/x86_64  InRelease\n",
            "Get:7 https://developer.download.nvidia.com/compute/cuda/repos/ubuntu1804/x86_64  Release [697 B]\n",
            "Hit:8 https://developer.download.nvidia.com/compute/machine-learning/repos/ubuntu1804/x86_64  Release\n",
            "Get:9 https://developer.download.nvidia.com/compute/cuda/repos/ubuntu1804/x86_64  Release.gpg [836 B]\n",
            "Get:10 http://archive.ubuntu.com/ubuntu bionic-updates InRelease [88.7 kB]\n",
            "Get:11 http://security.ubuntu.com/ubuntu bionic-security/main amd64 Packages [1,750 kB]\n",
            "Get:12 http://ppa.launchpad.net/graphics-drivers/ppa/ubuntu bionic InRelease [21.3 kB]\n",
            "Get:13 http://archive.ubuntu.com/ubuntu bionic-backports InRelease [74.6 kB]\n",
            "Get:14 http://security.ubuntu.com/ubuntu bionic-security/universe amd64 Packages [1,354 kB]\n",
            "Get:15 https://cloud.r-project.org/bin/linux/ubuntu bionic-cran40/ Packages [40.3 kB]\n",
            "Ign:17 https://developer.download.nvidia.com/compute/cuda/repos/ubuntu1804/x86_64  Packages\n",
            "Get:17 https://developer.download.nvidia.com/compute/cuda/repos/ubuntu1804/x86_64  Packages [405 kB]\n",
            "Get:18 http://ppa.launchpad.net/c2d4u.team/c2d4u4.0+/ubuntu bionic/main Sources [1,687 kB]\n",
            "Get:19 http://archive.ubuntu.com/ubuntu bionic-updates/main amd64 Packages [2,167 kB]\n",
            "Get:20 http://archive.ubuntu.com/ubuntu bionic-updates/universe amd64 Packages [2,119 kB]\n",
            "Get:21 http://ppa.launchpad.net/c2d4u.team/c2d4u4.0+/ubuntu bionic/main amd64 Packages [864 kB]\n",
            "Get:22 http://ppa.launchpad.net/graphics-drivers/ppa/ubuntu bionic/main amd64 Packages [48.9 kB]\n",
            "Fetched 10.7 MB in 3s (3,109 kB/s)\n",
            "Reading package lists... Done\n",
            "sample_data  spark-3.0.1-bin-hadoop2.7.tgz\n"
          ],
          "name": "stdout"
        }
      ]
    },
    {
      "cell_type": "code",
      "metadata": {
        "id": "uTw4C5Z0hA61",
        "colab": {
          "base_uri": "https://localhost:8080/"
        },
        "outputId": "84aaaa85-aa28-485b-9dc3-d8d097e6e575"
      },
      "source": [
        "# set up spark\n",
        "\n",
        "!pip install -q findspark\n",
        "!pip install py4j\n",
        "\n",
        "!export JAVA_HOME=$(/usr/lib/jvm/java-8-openjdk-amd64 -v 1.8)\n",
        "! echo $JAVA_HOME\n",
        "import os\n",
        "os.environ[\"JAVA_HOME\"] = \"/usr/lib/jvm/java-8-openjdk-amd64\"\n",
        "os.environ[\"SPARK_HOME\"] = \"/content/spark-3.0.1-bin-hadoop2.7\"\n",
        "import findspark\n",
        "findspark.init(\"spark-3.0.1-bin-hadoop2.7\") # SPARK_HOME\n",
        "\n",
        "from pyspark.sql import SparkSession\n",
        "spark = SparkSession.builder.master(\"local[*]\").getOrCreate()"
      ],
      "execution_count": null,
      "outputs": [
        {
          "output_type": "stream",
          "text": [
            "Collecting py4j\n",
            "\u001b[?25l  Downloading https://files.pythonhosted.org/packages/30/42/25ad191f311fcdb38b750d49de167abd535e37a144e730a80d7c439d1751/py4j-0.10.9.1-py2.py3-none-any.whl (198kB)\n",
            "\r\u001b[K     |█▋                              | 10kB 14.4MB/s eta 0:00:01\r\u001b[K     |███▎                            | 20kB 1.7MB/s eta 0:00:01\r\u001b[K     |█████                           | 30kB 2.1MB/s eta 0:00:01\r\u001b[K     |██████▋                         | 40kB 2.4MB/s eta 0:00:01\r\u001b[K     |████████▎                       | 51kB 2.0MB/s eta 0:00:01\r\u001b[K     |██████████                      | 61kB 2.2MB/s eta 0:00:01\r\u001b[K     |███████████▌                    | 71kB 2.4MB/s eta 0:00:01\r\u001b[K     |█████████████▏                  | 81kB 2.7MB/s eta 0:00:01\r\u001b[K     |██████████████▉                 | 92kB 2.9MB/s eta 0:00:01\r\u001b[K     |████████████████▌               | 102kB 2.7MB/s eta 0:00:01\r\u001b[K     |██████████████████▏             | 112kB 2.7MB/s eta 0:00:01\r\u001b[K     |███████████████████▉            | 122kB 2.7MB/s eta 0:00:01\r\u001b[K     |█████████████████████▌          | 133kB 2.7MB/s eta 0:00:01\r\u001b[K     |███████████████████████         | 143kB 2.7MB/s eta 0:00:01\r\u001b[K     |████████████████████████▊       | 153kB 2.7MB/s eta 0:00:01\r\u001b[K     |██████████████████████████▍     | 163kB 2.7MB/s eta 0:00:01\r\u001b[K     |████████████████████████████    | 174kB 2.7MB/s eta 0:00:01\r\u001b[K     |█████████████████████████████▊  | 184kB 2.7MB/s eta 0:00:01\r\u001b[K     |███████████████████████████████▍| 194kB 2.7MB/s eta 0:00:01\r\u001b[K     |████████████████████████████████| 204kB 2.7MB/s \n",
            "\u001b[?25hInstalling collected packages: py4j\n",
            "Successfully installed py4j-0.10.9.1\n",
            "/bin/bash: /usr/lib/jvm/java-8-openjdk-amd64: Is a directory\n",
            "\n"
          ],
          "name": "stdout"
        }
      ]
    },
    {
      "cell_type": "code",
      "metadata": {
        "id": "pGjUhfwkhNxp"
      },
      "source": [
        "# !ls"
      ],
      "execution_count": null,
      "outputs": []
    },
    {
      "cell_type": "code",
      "metadata": {
        "id": "2xLExHd8hP0D"
      },
      "source": [
        "import numpy as np\n",
        "import pandas as pd\n",
        "import seaborn as sns\n",
        "import matplotlib.pyplot as plt\n",
        "import math\n",
        "%matplotlib inline"
      ],
      "execution_count": null,
      "outputs": []
    },
    {
      "cell_type": "code",
      "metadata": {
        "id": "Jp04ytCThX_5",
        "colab": {
          "base_uri": "https://localhost:8080/"
        },
        "outputId": "8bebb5bb-bcba-4c9b-eb55-5bc5a6a94c32"
      },
      "source": [
        "from google.colab import drive\n",
        "drive.mount('/content/drive')"
      ],
      "execution_count": null,
      "outputs": [
        {
          "output_type": "stream",
          "text": [
            "Mounted at /content/drive\n"
          ],
          "name": "stdout"
        }
      ]
    },
    {
      "cell_type": "code",
      "metadata": {
        "id": "Zm-G2dLAh2Pq"
      },
      "source": [
        "movies_df = spark.read.load(\"drive/My Drive/movie_rec_small/movies.csv\", format='csv', header = True)\n",
        "ratings_df = spark.read.load(\"drive/My Drive/movie_rec_small/ratings.csv\", format='csv', header = True)\n",
        "links_df = spark.read.load(\"drive/My Drive/movie_rec_small/links.csv\", format='csv', header = True)\n",
        "tags_df = spark.read.load(\"drive/My Drive/movie_rec_small/tags.csv\", format='csv', header = True)"
      ],
      "execution_count": null,
      "outputs": []
    },
    {
      "cell_type": "code",
      "metadata": {
        "id": "qCZ_PQYzCPuO"
      },
      "source": [
        "movies_pd = movies_df.toPandas()\n",
        "ratings_pd = ratings_df.toPandas()"
      ],
      "execution_count": null,
      "outputs": []
    },
    {
      "cell_type": "code",
      "metadata": {
        "id": "XVs3rz6hiEir",
        "colab": {
          "base_uri": "https://localhost:8080/"
        },
        "outputId": "d775d4e9-8057-4a29-c5e8-c2ec5c187066"
      },
      "source": [
        "movies_df.show(5)"
      ],
      "execution_count": null,
      "outputs": [
        {
          "output_type": "stream",
          "text": [
            "+-------+--------------------+--------------------+\n",
            "|movieId|               title|              genres|\n",
            "+-------+--------------------+--------------------+\n",
            "|      1|    Toy Story (1995)|Adventure|Animati...|\n",
            "|      2|      Jumanji (1995)|Adventure|Childre...|\n",
            "|      3|Grumpier Old Men ...|      Comedy|Romance|\n",
            "|      4|Waiting to Exhale...|Comedy|Drama|Romance|\n",
            "|      5|Father of the Bri...|              Comedy|\n",
            "+-------+--------------------+--------------------+\n",
            "only showing top 5 rows\n",
            "\n"
          ],
          "name": "stdout"
        }
      ]
    },
    {
      "cell_type": "code",
      "metadata": {
        "id": "WQ9uuxRoiGDD",
        "colab": {
          "base_uri": "https://localhost:8080/"
        },
        "outputId": "e8265b3c-ebae-4f71-aca3-bcfcc4356518"
      },
      "source": [
        "ratings_df.show(5)"
      ],
      "execution_count": null,
      "outputs": [
        {
          "output_type": "stream",
          "text": [
            "+------+-------+------+---------+\n",
            "|userId|movieId|rating|timestamp|\n",
            "+------+-------+------+---------+\n",
            "|     1|      1|   4.0|964982703|\n",
            "|     1|      3|   4.0|964981247|\n",
            "|     1|      6|   4.0|964982224|\n",
            "|     1|     47|   5.0|964983815|\n",
            "|     1|     50|   5.0|964982931|\n",
            "+------+-------+------+---------+\n",
            "only showing top 5 rows\n",
            "\n"
          ],
          "name": "stdout"
        }
      ]
    },
    {
      "cell_type": "code",
      "metadata": {
        "id": "rECp62qmiJti",
        "colab": {
          "base_uri": "https://localhost:8080/"
        },
        "outputId": "67b3bf49-2c68-4ad1-ab73-222475eb7128"
      },
      "source": [
        "links_df.show(5)"
      ],
      "execution_count": null,
      "outputs": [
        {
          "output_type": "stream",
          "text": [
            "+-------+-------+------+\n",
            "|movieId| imdbId|tmdbId|\n",
            "+-------+-------+------+\n",
            "|      1|0114709|   862|\n",
            "|      2|0113497|  8844|\n",
            "|      3|0113228| 15602|\n",
            "|      4|0114885| 31357|\n",
            "|      5|0113041| 11862|\n",
            "+-------+-------+------+\n",
            "only showing top 5 rows\n",
            "\n"
          ],
          "name": "stdout"
        }
      ]
    },
    {
      "cell_type": "code",
      "metadata": {
        "id": "3kXqpEGUiOzS",
        "colab": {
          "base_uri": "https://localhost:8080/"
        },
        "outputId": "af0434b9-d2c6-4c5f-ff53-5746c0fcbefd"
      },
      "source": [
        "tags_df.show(5)"
      ],
      "execution_count": null,
      "outputs": [
        {
          "output_type": "stream",
          "text": [
            "+------+-------+---------------+----------+\n",
            "|userId|movieId|            tag| timestamp|\n",
            "+------+-------+---------------+----------+\n",
            "|     2|  60756|          funny|1445714994|\n",
            "|     2|  60756|Highly quotable|1445714996|\n",
            "|     2|  60756|   will ferrell|1445714992|\n",
            "|     2|  89774|   Boxing story|1445715207|\n",
            "|     2|  89774|            MMA|1445715200|\n",
            "+------+-------+---------------+----------+\n",
            "only showing top 5 rows\n",
            "\n"
          ],
          "name": "stdout"
        }
      ]
    },
    {
      "cell_type": "code",
      "metadata": {
        "id": "bXU8MmC6iSGh",
        "colab": {
          "base_uri": "https://localhost:8080/"
        },
        "outputId": "34c67da1-fdda-4ab8-d875-759ef50aaaac"
      },
      "source": [
        "tmp1 = ratings_df.groupBy(\"userID\").count().toPandas()['count'].min()\n",
        "tmp2 = ratings_df.groupBy(\"movieId\").count().toPandas()['count'].min()\n",
        "tmp3 = ratings_df.groupBy(\"userID\").count().toPandas()['count'].mean()\n",
        "tmp4 = ratings_df.groupBy(\"movieId\").count().toPandas()['count'].mean()\n",
        "\n",
        "print('For the users that rated movies and the movies that were rated:')\n",
        "print('Minimum number of ratings per user is {}'.format(tmp1))\n",
        "print('Minimum number of ratings per movie is {}'.format(tmp2))\n",
        "print('Average number of ratings per user is {}'.format(tmp1))\n",
        "print('Average number of ratings per movie is {}'.format(tmp1))"
      ],
      "execution_count": null,
      "outputs": [
        {
          "output_type": "stream",
          "text": [
            "For the users that rated movies and the movies that were rated:\n",
            "Minimum number of ratings per user is 20\n",
            "Minimum number of ratings per movie is 1\n",
            "Average number of ratings per user is 20\n",
            "Average number of ratings per movie is 20\n"
          ],
          "name": "stdout"
        }
      ]
    },
    {
      "cell_type": "markdown",
      "metadata": {
        "id": "iOXbBMGyj1s9"
      },
      "source": [
        "# **Part 1: Spark SQL and OLAP**"
      ]
    },
    {
      "cell_type": "code",
      "metadata": {
        "id": "4SXOPHejj-gE"
      },
      "source": [
        "movies_df.registerTempTable(\"movies\")\n",
        "ratings_df.registerTempTable(\"ratings\")\n",
        "links_df.registerTempTable(\"links\")\n",
        "tags_df.registerTempTable(\"tags\")"
      ],
      "execution_count": null,
      "outputs": []
    },
    {
      "cell_type": "markdown",
      "metadata": {
        "id": "yHefbJErkGaz"
      },
      "source": [
        "**1. Number of users**"
      ]
    },
    {
      "cell_type": "code",
      "metadata": {
        "id": "MeTBwxIPkOGe",
        "colab": {
          "base_uri": "https://localhost:8080/"
        },
        "outputId": "014b139b-d005-4450-983f-9deb2fe3b8be"
      },
      "source": [
        "q1_result=spark.sql(\"Select Count(Distinct userId) as Number_of_Users from ratings\")\n",
        "q1_result.show()"
      ],
      "execution_count": null,
      "outputs": [
        {
          "output_type": "stream",
          "text": [
            "+---------------+\n",
            "|Number_of_Users|\n",
            "+---------------+\n",
            "|            610|\n",
            "+---------------+\n",
            "\n"
          ],
          "name": "stdout"
        }
      ]
    },
    {
      "cell_type": "markdown",
      "metadata": {
        "id": "Jxl_D8eykcvv"
      },
      "source": [
        "**2. Number of Movies**\n",
        "**and number of movies not rated**"
      ]
    },
    {
      "cell_type": "code",
      "metadata": {
        "id": "kseFi6cKkfid",
        "colab": {
          "base_uri": "https://localhost:8080/"
        },
        "outputId": "67047a7e-5593-4aab-e420-4fb11140b49f"
      },
      "source": [
        "q2_result=spark.sql(\"Select Count(movieId) as Number_of_Movies from movies\")\n",
        "q2_result.show()"
      ],
      "execution_count": null,
      "outputs": [
        {
          "output_type": "stream",
          "text": [
            "+----------------+\n",
            "|Number_of_Movies|\n",
            "+----------------+\n",
            "|            9742|\n",
            "+----------------+\n",
            "\n"
          ],
          "name": "stdout"
        }
      ]
    },
    {
      "cell_type": "code",
      "metadata": {
        "id": "0XnXPJ_bjWM-",
        "colab": {
          "base_uri": "https://localhost:8080/"
        },
        "outputId": "cae1ab0e-da67-4bc8-fee4-315ef2d73dbd"
      },
      "source": [
        "tmp1 = sum(ratings_df.groupBy(\"movieId\").count().toPandas()['count'] <= 5)\n",
        "tmp2 = ratings_df.select('movieId').distinct().count()\n",
        "print('{} out of {} movies are rated by fewer than 5 users'.format(tmp1, tmp2))"
      ],
      "execution_count": null,
      "outputs": [
        {
          "output_type": "stream",
          "text": [
            "6456 out of 9724 movies are rated by fewer than 5 users\n"
          ],
          "name": "stdout"
        }
      ]
    },
    {
      "cell_type": "code",
      "metadata": {
        "id": "doXVP49MmMzx",
        "colab": {
          "base_uri": "https://localhost:8080/"
        },
        "outputId": "b2e7f847-df44-4ba7-bce1-47d3e5df8cf2"
      },
      "source": [
        "no_rating=spark.sql(\"Select Count(movieId) as Movies_Not_Rated From movies Where movieID not in (Select movieId From ratings)\")\n",
        "no_rating.show()"
      ],
      "execution_count": null,
      "outputs": [
        {
          "output_type": "stream",
          "text": [
            "+----------------+\n",
            "|Movies_Not_Rated|\n",
            "+----------------+\n",
            "|              18|\n",
            "+----------------+\n",
            "\n"
          ],
          "name": "stdout"
        }
      ]
    },
    {
      "cell_type": "code",
      "metadata": {
        "id": "plePpta4lonw",
        "colab": {
          "base_uri": "https://localhost:8080/",
          "height": 607
        },
        "outputId": "509ec802-8688-42f2-dafc-b3e0b6165282"
      },
      "source": [
        "movies_no_rating=spark.sql(\"Select movieId, title From movies Where movieID not in (Select movieId From ratings)\")\n",
        "movies_no_rating.toPandas()"
      ],
      "execution_count": null,
      "outputs": [
        {
          "output_type": "execute_result",
          "data": {
            "text/html": [
              "<div>\n",
              "<style scoped>\n",
              "    .dataframe tbody tr th:only-of-type {\n",
              "        vertical-align: middle;\n",
              "    }\n",
              "\n",
              "    .dataframe tbody tr th {\n",
              "        vertical-align: top;\n",
              "    }\n",
              "\n",
              "    .dataframe thead th {\n",
              "        text-align: right;\n",
              "    }\n",
              "</style>\n",
              "<table border=\"1\" class=\"dataframe\">\n",
              "  <thead>\n",
              "    <tr style=\"text-align: right;\">\n",
              "      <th></th>\n",
              "      <th>movieId</th>\n",
              "      <th>title</th>\n",
              "    </tr>\n",
              "  </thead>\n",
              "  <tbody>\n",
              "    <tr>\n",
              "      <th>0</th>\n",
              "      <td>1076</td>\n",
              "      <td>Innocents, The (1961)</td>\n",
              "    </tr>\n",
              "    <tr>\n",
              "      <th>1</th>\n",
              "      <td>2939</td>\n",
              "      <td>Niagara (1953)</td>\n",
              "    </tr>\n",
              "    <tr>\n",
              "      <th>2</th>\n",
              "      <td>3338</td>\n",
              "      <td>For All Mankind (1989)</td>\n",
              "    </tr>\n",
              "    <tr>\n",
              "      <th>3</th>\n",
              "      <td>3456</td>\n",
              "      <td>Color of Paradise, The (Rang-e khoda) (1999)</td>\n",
              "    </tr>\n",
              "    <tr>\n",
              "      <th>4</th>\n",
              "      <td>4194</td>\n",
              "      <td>I Know Where I'm Going! (1945)</td>\n",
              "    </tr>\n",
              "    <tr>\n",
              "      <th>5</th>\n",
              "      <td>5721</td>\n",
              "      <td>Chosen, The (1981)</td>\n",
              "    </tr>\n",
              "    <tr>\n",
              "      <th>6</th>\n",
              "      <td>6668</td>\n",
              "      <td>Road Home, The (Wo de fu qin mu qin) (1999)</td>\n",
              "    </tr>\n",
              "    <tr>\n",
              "      <th>7</th>\n",
              "      <td>6849</td>\n",
              "      <td>Scrooge (1970)</td>\n",
              "    </tr>\n",
              "    <tr>\n",
              "      <th>8</th>\n",
              "      <td>7020</td>\n",
              "      <td>Proof (1991)</td>\n",
              "    </tr>\n",
              "    <tr>\n",
              "      <th>9</th>\n",
              "      <td>7792</td>\n",
              "      <td>Parallax View, The (1974)</td>\n",
              "    </tr>\n",
              "    <tr>\n",
              "      <th>10</th>\n",
              "      <td>8765</td>\n",
              "      <td>This Gun for Hire (1942)</td>\n",
              "    </tr>\n",
              "    <tr>\n",
              "      <th>11</th>\n",
              "      <td>25855</td>\n",
              "      <td>Roaring Twenties, The (1939)</td>\n",
              "    </tr>\n",
              "    <tr>\n",
              "      <th>12</th>\n",
              "      <td>26085</td>\n",
              "      <td>Mutiny on the Bounty (1962)</td>\n",
              "    </tr>\n",
              "    <tr>\n",
              "      <th>13</th>\n",
              "      <td>30892</td>\n",
              "      <td>In the Realms of the Unreal (2004)</td>\n",
              "    </tr>\n",
              "    <tr>\n",
              "      <th>14</th>\n",
              "      <td>32160</td>\n",
              "      <td>Twentieth Century (1934)</td>\n",
              "    </tr>\n",
              "    <tr>\n",
              "      <th>15</th>\n",
              "      <td>32371</td>\n",
              "      <td>Call Northside 777 (1948)</td>\n",
              "    </tr>\n",
              "    <tr>\n",
              "      <th>16</th>\n",
              "      <td>34482</td>\n",
              "      <td>Browning Version, The (1951)</td>\n",
              "    </tr>\n",
              "    <tr>\n",
              "      <th>17</th>\n",
              "      <td>85565</td>\n",
              "      <td>Chalet Girl (2011)</td>\n",
              "    </tr>\n",
              "  </tbody>\n",
              "</table>\n",
              "</div>"
            ],
            "text/plain": [
              "   movieId                                         title\n",
              "0     1076                         Innocents, The (1961)\n",
              "1     2939                                Niagara (1953)\n",
              "2     3338                        For All Mankind (1989)\n",
              "3     3456  Color of Paradise, The (Rang-e khoda) (1999)\n",
              "4     4194                I Know Where I'm Going! (1945)\n",
              "5     5721                            Chosen, The (1981)\n",
              "6     6668   Road Home, The (Wo de fu qin mu qin) (1999)\n",
              "7     6849                                Scrooge (1970)\n",
              "8     7020                                  Proof (1991)\n",
              "9     7792                     Parallax View, The (1974)\n",
              "10    8765                      This Gun for Hire (1942)\n",
              "11   25855                  Roaring Twenties, The (1939)\n",
              "12   26085                   Mutiny on the Bounty (1962)\n",
              "13   30892            In the Realms of the Unreal (2004)\n",
              "14   32160                      Twentieth Century (1934)\n",
              "15   32371                     Call Northside 777 (1948)\n",
              "16   34482                  Browning Version, The (1951)\n",
              "17   85565                            Chalet Girl (2011)"
            ]
          },
          "metadata": {
            "tags": []
          },
          "execution_count": 18
        }
      ]
    },
    {
      "cell_type": "markdown",
      "metadata": {
        "id": "bh5soizVkl5s"
      },
      "source": [
        "**3. All movie genres**\n"
      ]
    },
    {
      "cell_type": "code",
      "metadata": {
        "id": "pQmsTjpxlJmD",
        "colab": {
          "base_uri": "https://localhost:8080/"
        },
        "outputId": "5992102f-8f19-45a1-d9a0-0373192e19ce"
      },
      "source": [
        "q3_result=spark.sql(\"Select Distinct explode(split(genres,'[|]')) as genres From movies Order by 1\")\n",
        "q3_result.show()"
      ],
      "execution_count": null,
      "outputs": [
        {
          "output_type": "stream",
          "text": [
            "+------------------+\n",
            "|            genres|\n",
            "+------------------+\n",
            "|(no genres listed)|\n",
            "|            Action|\n",
            "|         Adventure|\n",
            "|         Animation|\n",
            "|          Children|\n",
            "|            Comedy|\n",
            "|             Crime|\n",
            "|       Documentary|\n",
            "|             Drama|\n",
            "|           Fantasy|\n",
            "|         Film-Noir|\n",
            "|            Horror|\n",
            "|              IMAX|\n",
            "|           Musical|\n",
            "|           Mystery|\n",
            "|           Romance|\n",
            "|            Sci-Fi|\n",
            "|          Thriller|\n",
            "|               War|\n",
            "|           Western|\n",
            "+------------------+\n",
            "\n"
          ],
          "name": "stdout"
        }
      ]
    },
    {
      "cell_type": "markdown",
      "metadata": {
        "id": "yA4BmdzYlcTy"
      },
      "source": [
        "**4. Number of movies in each genre**"
      ]
    },
    {
      "cell_type": "code",
      "metadata": {
        "id": "ybzPZ0fdlhke",
        "colab": {
          "base_uri": "https://localhost:8080/"
        },
        "outputId": "cf49f7d1-f976-41bb-d1ba-1ff530434e53"
      },
      "source": [
        "q4_result_1=spark.sql(\n",
        "    \"Select genres,Count(movieId) as Number_of_Movies From (Select explode(split(genres,'[|]')) as genres, movieId From movies) Group By 1 Order by 2 DESC\")\n",
        "q4_result_1.show()"
      ],
      "execution_count": null,
      "outputs": [
        {
          "output_type": "stream",
          "text": [
            "+------------------+----------------+\n",
            "|            genres|Number_of_Movies|\n",
            "+------------------+----------------+\n",
            "|             Drama|            4361|\n",
            "|            Comedy|            3756|\n",
            "|          Thriller|            1894|\n",
            "|            Action|            1828|\n",
            "|           Romance|            1596|\n",
            "|         Adventure|            1263|\n",
            "|             Crime|            1199|\n",
            "|            Sci-Fi|             980|\n",
            "|            Horror|             978|\n",
            "|           Fantasy|             779|\n",
            "|          Children|             664|\n",
            "|         Animation|             611|\n",
            "|           Mystery|             573|\n",
            "|       Documentary|             440|\n",
            "|               War|             382|\n",
            "|           Musical|             334|\n",
            "|           Western|             167|\n",
            "|              IMAX|             158|\n",
            "|         Film-Noir|              87|\n",
            "|(no genres listed)|              34|\n",
            "+------------------+----------------+\n",
            "\n"
          ],
          "name": "stdout"
        }
      ]
    },
    {
      "cell_type": "markdown",
      "metadata": {
        "id": "tAM9ucZImEQq"
      },
      "source": [
        "**5. Number of ratings**"
      ]
    },
    {
      "cell_type": "code",
      "metadata": {
        "id": "pyyUM83jmIiA",
        "colab": {
          "base_uri": "https://localhost:8080/"
        },
        "outputId": "88168bf2-c222-4a44-9fc1-dad78560941f"
      },
      "source": [
        "q5_result=spark.sql(\"Select Count(*) as Number_of_Ratings from ratings\")\n",
        "q5_result.show()"
      ],
      "execution_count": null,
      "outputs": [
        {
          "output_type": "stream",
          "text": [
            "+-----------------+\n",
            "|Number_of_Ratings|\n",
            "+-----------------+\n",
            "|           100836|\n",
            "+-----------------+\n",
            "\n"
          ],
          "name": "stdout"
        }
      ]
    },
    {
      "cell_type": "markdown",
      "metadata": {
        "id": "XTY2jn0rmvWj"
      },
      "source": [
        "**6. Number of movies in each tag, show only top 20 results**"
      ]
    },
    {
      "cell_type": "code",
      "metadata": {
        "id": "UxE1aG3-nTew",
        "colab": {
          "base_uri": "https://localhost:8080/"
        },
        "outputId": "ca6fd55f-6953-41f5-adcf-ca4fc10a446c"
      },
      "source": [
        "q6_result_1=spark.sql(\"Select tag, Count(movieId) as Number_of_Movies From tags Group By 1 Order by 2 DESC\")\n",
        "q6_result_1.show(20)"
      ],
      "execution_count": null,
      "outputs": [
        {
          "output_type": "stream",
          "text": [
            "+------------------+----------------+\n",
            "|               tag|Number_of_Movies|\n",
            "+------------------+----------------+\n",
            "|  In Netflix queue|             131|\n",
            "|       atmospheric|              36|\n",
            "| thought-provoking|              24|\n",
            "|         superhero|              24|\n",
            "|            Disney|              23|\n",
            "|           surreal|              23|\n",
            "|             funny|              23|\n",
            "|          religion|              22|\n",
            "|       dark comedy|              21|\n",
            "|            quirky|              21|\n",
            "|        psychology|              21|\n",
            "|            sci-fi|              21|\n",
            "|          suspense|              20|\n",
            "|      twist ending|              19|\n",
            "|             crime|              19|\n",
            "|visually appealing|              19|\n",
            "|          politics|              18|\n",
            "|             music|              16|\n",
            "|       time travel|              16|\n",
            "|    mental illness|              16|\n",
            "+------------------+----------------+\n",
            "only showing top 20 rows\n",
            "\n"
          ],
          "name": "stdout"
        }
      ]
    },
    {
      "cell_type": "markdown",
      "metadata": {
        "id": "Vvd8VK3NC6aW"
      },
      "source": [
        "**7. Making a word cloud: most popular genres**"
      ]
    },
    {
      "cell_type": "code",
      "metadata": {
        "id": "0e6S1jzy9NXn"
      },
      "source": [
        "# Import new libraries\n",
        "%matplotlib inline\n",
        "import wordcloud\n",
        "from wordcloud import WordCloud, STOPWORDS"
      ],
      "execution_count": null,
      "outputs": []
    },
    {
      "cell_type": "code",
      "metadata": {
        "id": "bgn0drVIA1lr",
        "colab": {
          "base_uri": "https://localhost:8080/"
        },
        "outputId": "dd92f553-15a1-4f94-9218-7578bb85a6f3"
      },
      "source": [
        "# Make a census of the genre keywords\n",
        "genre_labels = set()\n",
        "for s in movies_pd['genres'].str.split('|').values:\n",
        "    genre_labels = genre_labels.union(set(s))\n",
        "\n",
        "# Function that counts the number of times each of the genre keywords appear\n",
        "def count_word(dataset, ref_col, census):\n",
        "    keyword_count = dict()\n",
        "    for s in census: \n",
        "        keyword_count[s] = 0\n",
        "    for census_keywords in dataset[ref_col].str.split('|'):        \n",
        "        if type(census_keywords) == float and pd.isnull(census_keywords): \n",
        "            continue        \n",
        "        for s in [s for s in census_keywords if s in census]: \n",
        "            if pd.notnull(s): \n",
        "                keyword_count[s] += 1\n",
        "\n",
        "#______________________________________________________________________\n",
        "    # convert the dictionary in a list to sort the keywords by frequency\n",
        "    keyword_occurences = []\n",
        "    for k,v in keyword_count.items():\n",
        "        keyword_occurences.append([k,v])\n",
        "    keyword_occurences.sort(key = lambda x:x[1], reverse = True)\n",
        "    return keyword_occurences, keyword_count\n",
        "\n",
        "# Calling this function gives access to a list of genre keywords which are sorted by decreasing frequency\n",
        "keyword_occurences, dum = count_word(movies_pd, 'genres', genre_labels)\n",
        "keyword_occurences[:5]"
      ],
      "execution_count": null,
      "outputs": [
        {
          "output_type": "execute_result",
          "data": {
            "text/plain": [
              "[['Drama', 4361],\n",
              " ['Comedy', 3756],\n",
              " ['Thriller', 1894],\n",
              " ['Action', 1828],\n",
              " ['Romance', 1596]]"
            ]
          },
          "metadata": {
            "tags": []
          },
          "execution_count": 24
        }
      ]
    },
    {
      "cell_type": "code",
      "metadata": {
        "id": "rBf_dk4iDBe8",
        "colab": {
          "base_uri": "https://localhost:8080/",
          "height": 388
        },
        "outputId": "8332cffd-b996-4bf8-b511-38b296e4689e"
      },
      "source": [
        "# Define the dictionary used to produce the genre wordcloud\n",
        "genres = dict()\n",
        "trunc_occurences = keyword_occurences[0:18]\n",
        "for s in trunc_occurences:\n",
        "    genres[s[0]] = s[1]\n",
        "\n",
        "# Create the wordcloud\n",
        "genre_wordcloud = WordCloud(width=1000,height=400, background_color='white')\n",
        "genre_wordcloud.generate_from_frequencies(genres)\n",
        "\n",
        "# Plot the wordcloud\n",
        "f, ax = plt.subplots(figsize=(16, 8))\n",
        "plt.imshow(genre_wordcloud, interpolation=\"bilinear\")\n",
        "plt.axis('off')\n",
        "plt.show()"
      ],
      "execution_count": null,
      "outputs": [
        {
          "output_type": "display_data",
          "data": {
            "image/png": "[encoded data removed]",
            "text/plain": [
              "<Figure size 1152x576 with 1 Axes>"
            ]
          },
          "metadata": {
            "tags": [],
            "needs_background": "light"
          }
        }
      ]
    },
    {
      "cell_type": "markdown",
      "metadata": {
        "id": "q-emDkxUDwv1"
      },
      "source": [
        "# **Part 2: Content-Based Filtering: similar movies based on genre**\n",
        "\n",
        "Content-based filtering using tf-idf and pairwise cosine similarity between each pair of genres. This algorithm doesn't utilize any user information."
      ]
    },
    {
      "cell_type": "markdown",
      "metadata": {
        "id": "njAByOIoEYGk"
      },
      "source": [
        "#1. TF-IDF "
      ]
    },
    {
      "cell_type": "code",
      "metadata": {
        "id": "_cDqLx_uEI6W"
      },
      "source": [
        "# Break up the big genre string into a string array\n",
        "movies_pd['genres'] = movies_pd['genres'].str.split('|')\n",
        "# Convert genres to string value\n",
        "movies_pd['genres'] = movies_pd['genres'].fillna(\"\").astype('str')"
      ],
      "execution_count": null,
      "outputs": []
    },
    {
      "cell_type": "code",
      "metadata": {
        "id": "GrGgCm6BEyCv",
        "colab": {
          "base_uri": "https://localhost:8080/"
        },
        "outputId": "09aa2345-42b9-4280-9013-693c0efad7fb"
      },
      "source": [
        "# transforms text to feature vectors that can be used as input to estimator\n",
        "\n",
        "from sklearn.feature_extraction.text import TfidfVectorizer\n",
        "tf = TfidfVectorizer(analyzer='word',ngram_range=(1, 1),min_df=0, stop_words='english')\n",
        "tfidf_matrix = tf.fit_transform(movies_pd['genres'])\n",
        "tfidf_matrix.shape"
      ],
      "execution_count": null,
      "outputs": [
        {
          "output_type": "execute_result",
          "data": {
            "text/plain": [
              "(9742, 23)"
            ]
          },
          "metadata": {
            "tags": []
          },
          "execution_count": 27
        }
      ]
    },
    {
      "cell_type": "markdown",
      "metadata": {
        "id": "OlStSzLtFC4w"
      },
      "source": [
        "#2. Cosine Similarity "
      ]
    },
    {
      "cell_type": "code",
      "metadata": {
        "id": "x73Cg427FGFe",
        "colab": {
          "base_uri": "https://localhost:8080/"
        },
        "outputId": "64b534d4-7787-43f2-dd28-12f1587de356"
      },
      "source": [
        "from sklearn.metrics.pairwise import linear_kernel\n",
        "cosine_sim = linear_kernel(tfidf_matrix, tfidf_matrix)\n",
        "cosine_sim[:4, :4]"
      ],
      "execution_count": null,
      "outputs": [
        {
          "output_type": "execute_result",
          "data": {
            "text/plain": [
              "array([[1.        , 0.81357774, 0.15276924, 0.1351353 ],\n",
              "       [0.81357774, 1.        , 0.        , 0.        ],\n",
              "       [0.15276924, 0.        , 1.        , 0.8845714 ],\n",
              "       [0.1351353 , 0.        , 0.8845714 , 1.        ]])"
            ]
          },
          "metadata": {
            "tags": []
          },
          "execution_count": 28
        }
      ]
    },
    {
      "cell_type": "code",
      "metadata": {
        "id": "XCMqINivFW9r"
      },
      "source": [
        "# Build a 1-dimensional array with movie titles\n",
        "titles = movies_pd['title']\n",
        "indices = pd.Series(movies_pd.index, index=movies_pd['title'])\n",
        "\n",
        "# Function that get top 10 movie recommendations \n",
        "# based on the cosine similarity score of movie genres\n",
        "def genre_recommendations(title):\n",
        "    idx = indices[title]\n",
        "    sim_scores = list(enumerate(cosine_sim[idx]))\n",
        "    sim_scores = sorted(sim_scores, key=lambda x: x[1], reverse=True)\n",
        "    top_10 = sim_scores[1:11]\n",
        "    movie_indices = [i[0] for i in top_10]\n",
        "    return titles.iloc[movie_indices]"
      ],
      "execution_count": null,
      "outputs": []
    },
    {
      "cell_type": "code",
      "metadata": {
        "id": "OvJjshzZF32I",
        "colab": {
          "base_uri": "https://localhost:8080/"
        },
        "outputId": "775dbbf3-cd9f-4498-d40f-3280714fce1f"
      },
      "source": [
        "genre_recommendations(\"White Chicks (2004)\")"
      ],
      "execution_count": null,
      "outputs": [
        {
          "output_type": "execute_result",
          "data": {
            "text/plain": [
              "672                              Bulletproof (1996)\n",
              "1366                            Big Hit, The (1998)\n",
              "2730                              Rent-A-Cop (1988)\n",
              "3390                                     K-9 (1989)\n",
              "3730                 All About the Benjamins (2002)\n",
              "3850                             Bad Company (2002)\n",
              "3870                        V. I. Warshawski (1991)\n",
              "4008                        Knockaround Guys (2002)\n",
              "4312    Flickering Lights (Blinkende lygter) (2000)\n",
              "4533                                   Kuffs (1992)\n",
              "Name: title, dtype: object"
            ]
          },
          "metadata": {
            "tags": []
          },
          "execution_count": 39
        }
      ]
    },
    {
      "cell_type": "code",
      "metadata": {
        "id": "AklfHWnPG4u7",
        "colab": {
          "base_uri": "https://localhost:8080/"
        },
        "outputId": "c789297b-f066-495a-d6ad-c242ad984a5a"
      },
      "source": [
        "genre_recommendations(\"Usual Suspects, The (1995)\")"
      ],
      "execution_count": null,
      "outputs": [
        {
          "output_type": "execute_result",
          "data": {
            "text/plain": [
              "826                         Dial M for Murder (1954)\n",
              "828                            Reservoir Dogs (1992)\n",
              "831                            Basic Instinct (1992)\n",
              "1250                               Switchback (1997)\n",
              "1945                                Following (1998)\n",
              "3329                                  Frantic (1988)\n",
              "3991                               Red Dragon (2002)\n",
              "5294         Sherlock Holmes: Terror by Night (1946)\n",
              "5296    Sherlock Holmes and the Secret Weapon (1942)\n",
              "5337             Murder on the Orient Express (1974)\n",
              "Name: title, dtype: object"
            ]
          },
          "metadata": {
            "tags": []
          },
          "execution_count": 40
        }
      ]
    },
    {
      "cell_type": "markdown",
      "metadata": {
        "id": "hDaRhBKwqm8x"
      },
      "source": [
        "# **Part 3: Collaborative Filtering with Spark ALS**\n",
        "\n",
        "Using Spark ALS to predict ratings and recommend movies to users, based on the rate records of similar users"
      ]
    },
    {
      "cell_type": "markdown",
      "metadata": {
        "id": "R0Aj7SKKHvP-"
      },
      "source": [
        "#1. Model selection and fit on training data\n",
        "  * finding optimal hyperparameters"
      ]
    },
    {
      "cell_type": "code",
      "metadata": {
        "id": "iI8iSbLl5Zeb"
      },
      "source": [
        "ratings=ratings_df.drop('timestamp')\n",
        "\n",
        "ratings = ratings.withColumn(\"userId\", ratings[\"userId\"].cast(\"Integer\"))\n",
        "ratings = ratings.withColumn(\"movieId\", ratings[\"movieId\"].cast(\"Integer\"))\n",
        "ratings = ratings.withColumn(\"rating\", ratings[\"rating\"].cast(\"float\"))"
      ],
      "execution_count": null,
      "outputs": []
    },
    {
      "cell_type": "code",
      "metadata": {
        "id": "gcCgu6Is5qa0",
        "colab": {
          "base_uri": "https://localhost:8080/"
        },
        "outputId": "ad003e01-22cf-4cbc-b5e6-43bc314279b5"
      },
      "source": [
        "ratings.printSchema()"
      ],
      "execution_count": null,
      "outputs": [
        {
          "output_type": "stream",
          "text": [
            "root\n",
            " |-- userId: integer (nullable = true)\n",
            " |-- movieId: integer (nullable = true)\n",
            " |-- rating: float (nullable = true)\n",
            "\n"
          ],
          "name": "stdout"
        }
      ]
    },
    {
      "cell_type": "code",
      "metadata": {
        "id": "ebjnowM1tD4f"
      },
      "source": [
        "# import package\n",
        "from pyspark.ml.evaluation import RegressionEvaluator\n",
        "from pyspark.ml.recommendation import ALS\n",
        "from pyspark.ml.tuning import CrossValidator,ParamGridBuilder"
      ],
      "execution_count": null,
      "outputs": []
    },
    {
      "cell_type": "code",
      "metadata": {
        "id": "PBx93OuGtGw7",
        "colab": {
          "base_uri": "https://localhost:8080/"
        },
        "outputId": "6abadc88-93e7-42da-d958-8ce82a8a3dc6"
      },
      "source": [
        "# split ratings to train and test sets: 0.8 to 0.2 ratio\n",
        "(training,test)=ratings.randomSplit([0.8,0.2])\n",
        "\n",
        "training.cache()\n",
        "test.cache()"
      ],
      "execution_count": null,
      "outputs": [
        {
          "output_type": "execute_result",
          "data": {
            "text/plain": [
              "DataFrame[userId: int, movieId: int, rating: float]"
            ]
          },
          "metadata": {
            "tags": []
          },
          "execution_count": 25
        }
      ]
    },
    {
      "cell_type": "code",
      "metadata": {
        "id": "FhTt84-BtdD6"
      },
      "source": [
        "#Create ALS model\n",
        "model = ALS(maxIter=5, rank=10, regParam=0.01, userCol=\"userId\", \n",
        "            itemCol=\"movieId\", ratingCol=\"rating\",coldStartStrategy=\"drop\", seed = 10)"
      ],
      "execution_count": null,
      "outputs": []
    },
    {
      "cell_type": "code",
      "metadata": {
        "id": "l7S3mTjjtnx7"
      },
      "source": [
        "#Tune model using ParamGridBuilder\n",
        "paramGrid = (ParamGridBuilder()\n",
        "             .addGrid(model.regParam, [0.05, 0.1, 0.3, 0.5])\n",
        "             .addGrid(model.rank, [5, 10, 15])\n",
        "             .addGrid(model.maxIter, [1, 5, 10])\n",
        "             .build())"
      ],
      "execution_count": null,
      "outputs": []
    },
    {
      "cell_type": "code",
      "metadata": {
        "id": "L63nYYyntweN"
      },
      "source": [
        "# Define evaluator as RMSE\n",
        "evaluator = RegressionEvaluator(metricName=\"rmse\", labelCol=\"rating\",\n",
        "                                predictionCol=\"prediction\")"
      ],
      "execution_count": null,
      "outputs": []
    },
    {
      "cell_type": "code",
      "metadata": {
        "id": "L1lDzgt3t2Tn"
      },
      "source": [
        "# Build Cross validation \n",
        "cv = CrossValidator(estimator=model, estimatorParamMaps=paramGrid, evaluator=evaluator, numFolds=5)"
      ],
      "execution_count": null,
      "outputs": []
    },
    {
      "cell_type": "code",
      "metadata": {
        "id": "sUEggpuwuCMf"
      },
      "source": [
        "#Fit ALS model to training data\n",
        "cvModel = cv.fit(training)"
      ],
      "execution_count": null,
      "outputs": []
    },
    {
      "cell_type": "code",
      "metadata": {
        "id": "ivKLmjMIulaz"
      },
      "source": [
        "bestModel=cvModel.bestModel"
      ],
      "execution_count": null,
      "outputs": []
    },
    {
      "cell_type": "code",
      "metadata": {
        "id": "6yjSUO2AdgDB",
        "colab": {
          "base_uri": "https://localhost:8080/"
        },
        "outputId": "11028639-6d19-4d71-e838-7a90d5f95017"
      },
      "source": [
        "bestModel.itemFactors"
      ],
      "execution_count": null,
      "outputs": [
        {
          "output_type": "execute_result",
          "data": {
            "text/plain": [
              "DataFrame[id: int, features: array<float>]"
            ]
          },
          "metadata": {
            "tags": []
          },
          "execution_count": 64
        }
      ]
    },
    {
      "cell_type": "markdown",
      "metadata": {
        "id": "OD-ARTuqDio8"
      },
      "source": [
        "#2. Best model on testing data\n",
        "And finally, make a prediction and check the testing error."
      ]
    },
    {
      "cell_type": "code",
      "metadata": {
        "id": "-qUS-ZhFDkpu"
      },
      "source": [
        "#Generate predictions and evaluate using RMSE\n",
        "predictions=bestModel.transform(test)\n",
        "rmse = evaluator.evaluate(predictions)"
      ],
      "execution_count": null,
      "outputs": []
    },
    {
      "cell_type": "code",
      "metadata": {
        "id": "45PZFARoDusa",
        "colab": {
          "base_uri": "https://localhost:8080/"
        },
        "outputId": "7044e5fd-5f8d-4c55-bda4-acbdb097f54a"
      },
      "source": [
        "#Print evaluation metrics and model parameters\n",
        "print (\"RMSE = \"+str(rmse))\n",
        "print (\"**Best Model**\")\n",
        "print (\" Rank: \", str(bestModel._java_obj.parent().getRank())),\n",
        "print (\" MaxIter: \", str(bestModel._java_obj.parent().getMaxIter())), \n",
        "print (\" RegParam: \", str(bestModel._java_obj.parent().getRegParam()))"
      ],
      "execution_count": null,
      "outputs": [
        {
          "output_type": "stream",
          "text": [
            "RMSE = 0.8729728871980146\n",
            "**Best Model**\n",
            " Rank:  15\n",
            " MaxIter:  10\n",
            " RegParam:  0.1\n"
          ],
          "name": "stdout"
        }
      ]
    },
    {
      "cell_type": "code",
      "metadata": {
        "id": "Sc46wliJDz78",
        "colab": {
          "base_uri": "https://localhost:8080/"
        },
        "outputId": "fdeb5ccb-d632-4589-abee-34986c8c08f7"
      },
      "source": [
        "predictions.show()"
      ],
      "execution_count": null,
      "outputs": [
        {
          "output_type": "stream",
          "text": [
            "+------+-------+------+----------+\n",
            "|userId|movieId|rating|prediction|\n",
            "+------+-------+------+----------+\n",
            "|   133|    471|   4.0| 3.2199824|\n",
            "|   436|    471|   3.0| 3.4962656|\n",
            "|   462|    471|   2.5| 2.6060169|\n",
            "|   448|    471|   4.0| 3.2678735|\n",
            "|    32|    471|   3.0| 3.8956025|\n",
            "|   608|    471|   1.5| 3.1934154|\n",
            "|   357|    471|   3.5| 4.1492114|\n",
            "|    47|   1088|   4.0| 2.8956957|\n",
            "|   474|   1088|   3.5| 3.0210986|\n",
            "|   563|   1088|   4.0| 3.3486934|\n",
            "|   489|   1088|   4.5| 3.5836878|\n",
            "|   381|   1088|   3.5| 3.5458105|\n",
            "|    84|   1088|   3.0| 3.1667936|\n",
            "|   509|   1088|   3.0| 3.2384422|\n",
            "|   188|   1088|   4.0|  3.122719|\n",
            "|   525|   1088|   4.5|  3.329955|\n",
            "|   600|   1088|   3.5|  2.068213|\n",
            "|   385|   1238|   3.0|  3.974226|\n",
            "|   325|   1342|   4.0| 2.6580384|\n",
            "|   312|   1342|   4.0| 2.2590995|\n",
            "+------+-------+------+----------+\n",
            "only showing top 20 rows\n",
            "\n"
          ],
          "name": "stdout"
        }
      ]
    },
    {
      "cell_type": "markdown",
      "metadata": {
        "id": "EOpVVwIzD-fb"
      },
      "source": [
        "#3. Apply model on the entire dataset and analyze the performance"
      ]
    },
    {
      "cell_type": "code",
      "metadata": {
        "id": "dce9H_eYEEbL",
        "colab": {
          "base_uri": "https://localhost:8080/"
        },
        "outputId": "e201d2ad-a6cb-494b-9b3b-5c8c2514087b"
      },
      "source": [
        "alldata=bestModel.transform(ratings)\n",
        "rmse = evaluator.evaluate(alldata)\n",
        "print (\"RMSE = \"+str(rmse))"
      ],
      "execution_count": null,
      "outputs": [
        {
          "output_type": "stream",
          "text": [
            "RMSE = 0.6083010766050813\n"
          ],
          "name": "stdout"
        }
      ]
    },
    {
      "cell_type": "code",
      "metadata": {
        "id": "srbqTE6jEsvZ"
      },
      "source": [
        "alldata.registerTempTable(\"alldata\")"
      ],
      "execution_count": null,
      "outputs": []
    },
    {
      "cell_type": "code",
      "metadata": {
        "id": "-9yZy6NBEwMA",
        "colab": {
          "base_uri": "https://localhost:8080/"
        },
        "outputId": "4092f3c6-bb3c-418f-b689-1f792a1b25d0"
      },
      "source": [
        "spark.sql(\"Select * From alldata\").show()"
      ],
      "execution_count": null,
      "outputs": [
        {
          "output_type": "stream",
          "text": [
            "+------+-------+------+----------+\n",
            "|userId|movieId|rating|prediction|\n",
            "+------+-------+------+----------+\n",
            "|   191|    148|   5.0| 4.9322586|\n",
            "|   133|    471|   4.0| 3.2199824|\n",
            "|   597|    471|   2.0| 3.4132044|\n",
            "|   385|    471|   4.0| 3.4856412|\n",
            "|   436|    471|   3.0| 3.4962656|\n",
            "|   602|    471|   4.0| 3.6250837|\n",
            "|    91|    471|   1.0| 2.2505853|\n",
            "|   409|    471|   3.0| 3.2440617|\n",
            "|   372|    471|   3.0| 3.5341592|\n",
            "|   599|    471|   2.5|  2.874425|\n",
            "|   603|    471|   4.0| 3.4639006|\n",
            "|   182|    471|   4.5|  4.248295|\n",
            "|   218|    471|   4.0| 3.5022643|\n",
            "|   474|    471|   3.0|  3.292134|\n",
            "|   500|    471|   1.0| 1.8774328|\n",
            "|    57|    471|   3.0| 3.4616573|\n",
            "|   462|    471|   2.5| 2.6060169|\n",
            "|   387|    471|   3.0| 3.0406647|\n",
            "|   610|    471|   4.0| 3.4041977|\n",
            "|   217|    471|   2.0| 2.6539414|\n",
            "+------+-------+------+----------+\n",
            "only showing top 20 rows\n",
            "\n"
          ],
          "name": "stdout"
        }
      ]
    },
    {
      "cell_type": "code",
      "metadata": {
        "id": "VO6--_3KFBWq",
        "colab": {
          "base_uri": "https://localhost:8080/"
        },
        "outputId": "ee47abe7-f6d3-46a9-df8d-8fe54b9901d0"
      },
      "source": [
        "spark.sql(\"select * from movies join alldata on movies.movieId=alldata.movieId\").show()"
      ],
      "execution_count": null,
      "outputs": [
        {
          "output_type": "stream",
          "text": [
            "+-------+--------------------+------+------+-------+------+----------+\n",
            "|movieId|               title|genres|userId|movieId|rating|prediction|\n",
            "+-------+--------------------+------+------+-------+------+----------+\n",
            "|    148|Awfully Big Adven...| Drama|   191|    148|   5.0| 4.9322586|\n",
            "|    471|Hudsucker Proxy, ...|Comedy|   133|    471|   4.0| 3.2199824|\n",
            "|    471|Hudsucker Proxy, ...|Comedy|   597|    471|   2.0| 3.4132044|\n",
            "|    471|Hudsucker Proxy, ...|Comedy|   385|    471|   4.0| 3.4856412|\n",
            "|    471|Hudsucker Proxy, ...|Comedy|   436|    471|   3.0| 3.4962656|\n",
            "|    471|Hudsucker Proxy, ...|Comedy|   602|    471|   4.0| 3.6250837|\n",
            "|    471|Hudsucker Proxy, ...|Comedy|    91|    471|   1.0| 2.2505853|\n",
            "|    471|Hudsucker Proxy, ...|Comedy|   409|    471|   3.0| 3.2440617|\n",
            "|    471|Hudsucker Proxy, ...|Comedy|   372|    471|   3.0| 3.5341592|\n",
            "|    471|Hudsucker Proxy, ...|Comedy|   599|    471|   2.5|  2.874425|\n",
            "|    471|Hudsucker Proxy, ...|Comedy|   603|    471|   4.0| 3.4639006|\n",
            "|    471|Hudsucker Proxy, ...|Comedy|   182|    471|   4.5|  4.248295|\n",
            "|    471|Hudsucker Proxy, ...|Comedy|   218|    471|   4.0| 3.5022643|\n",
            "|    471|Hudsucker Proxy, ...|Comedy|   474|    471|   3.0|  3.292134|\n",
            "|    471|Hudsucker Proxy, ...|Comedy|   500|    471|   1.0| 1.8774328|\n",
            "|    471|Hudsucker Proxy, ...|Comedy|    57|    471|   3.0| 3.4616573|\n",
            "|    471|Hudsucker Proxy, ...|Comedy|   462|    471|   2.5| 2.6060169|\n",
            "|    471|Hudsucker Proxy, ...|Comedy|   387|    471|   3.0| 3.0406647|\n",
            "|    471|Hudsucker Proxy, ...|Comedy|   610|    471|   4.0| 3.4041977|\n",
            "|    471|Hudsucker Proxy, ...|Comedy|   217|    471|   2.0| 2.6539414|\n",
            "+-------+--------------------+------+------+-------+------+----------+\n",
            "only showing top 20 rows\n",
            "\n"
          ],
          "name": "stdout"
        }
      ]
    },
    {
      "cell_type": "code",
      "metadata": {
        "id": "T9wBrpzxAZsM",
        "colab": {
          "base_uri": "https://localhost:8080/"
        },
        "outputId": "62718287-4001-4e38-bbad-960ec75fd773"
      },
      "source": [
        "print('Recommended top users (e.g. 1 top user) for all items with the corresponding predicted ratings:')\n",
        "bestModel.recommendForAllItems(1).show(5)\n",
        "\n",
        "print('-'*50)\n",
        "\n",
        "print('Recommended top items (e.g. 1 top item) for all users with the corresponding predicted ratings:')\n",
        "bestModel.recommendForAllUsers(1).show(5)"
      ],
      "execution_count": null,
      "outputs": [
        {
          "output_type": "stream",
          "text": [
            "Recommended top users (e.g. 1 top user) for all items with the corresponding predicted ratings:\n",
            "+-------+------------------+\n",
            "|movieId|   recommendations|\n",
            "+-------+------------------+\n",
            "|   1580|  [[53, 5.012784]]|\n",
            "|   4900| [[413, 4.603004]]|\n",
            "|   5300|[[375, 4.0721674]]|\n",
            "|   6620| [[375, 4.918841]]|\n",
            "|   7340|[[337, 3.9569652]]|\n",
            "+-------+------------------+\n",
            "only showing top 5 rows\n",
            "\n",
            "--------------------------------------------------\n",
            "Recommended top items (e.g. 1 top item) for all users with the corresponding predicted ratings:\n",
            "+------+--------------------+\n",
            "|userId|     recommendations|\n",
            "+------+--------------------+\n",
            "|   471|[[177593, 4.75732...|\n",
            "|   463|[[78836, 4.7160673]]|\n",
            "|   496| [[2843, 4.5622883]]|\n",
            "|   148|[[183897, 4.54388...|\n",
            "|   540|  [[3379, 5.251795]]|\n",
            "+------+--------------------+\n",
            "only showing top 5 rows\n",
            "\n"
          ],
          "name": "stdout"
        }
      ]
    },
    {
      "cell_type": "markdown",
      "metadata": {
        "id": "uUOqtN4AG0j-"
      },
      "source": [
        "#4. Recommend movies to selected users (by userID)"
      ]
    },
    {
      "cell_type": "code",
      "metadata": {
        "id": "-sDwBdQ_JOhp",
        "colab": {
          "base_uri": "https://localhost:8080/"
        },
        "outputId": "55dc8c40-774a-4b6b-bdec-025766c652f5"
      },
      "source": [
        "pip install pyarrow==2.0.*"
      ],
      "execution_count": null,
      "outputs": [
        {
          "output_type": "stream",
          "text": [
            "Collecting pyarrow==2.0.*\n",
            "\u001b[?25l  Downloading https://files.pythonhosted.org/packages/d7/e1/27958a70848f8f7089bff8d6ebe42519daf01f976d28b481e1bfd52c8097/pyarrow-2.0.0-cp36-cp36m-manylinux2014_x86_64.whl (17.7MB)\n",
            "\u001b[K     |████████████████████████████████| 17.7MB 1.4MB/s \n",
            "\u001b[?25hRequirement already satisfied: numpy>=1.14 in /usr/local/lib/python3.6/dist-packages (from pyarrow==2.0.*) (1.18.5)\n",
            "Installing collected packages: pyarrow\n",
            "  Found existing installation: pyarrow 0.14.1\n",
            "    Uninstalling pyarrow-0.14.1:\n",
            "      Successfully uninstalled pyarrow-0.14.1\n",
            "Successfully installed pyarrow-2.0.0\n"
          ],
          "name": "stdout"
        }
      ]
    },
    {
      "cell_type": "code",
      "metadata": {
        "id": "x8shjjQG1xqt"
      },
      "source": [
        "from pyspark.sql.functions import lit\n",
        "\n",
        "# recommend N movies to a random user\n",
        "def recommendMovies(model, user, nbRecommendations):\n",
        "\n",
        "  # Create a Spark DataFrame with the specified user and all the movies listed in the ratings DataFrame\n",
        "  dataSet = ratings.select('movieId').distinct().withColumn('userId', lit(user))\n",
        "\n",
        "  # Create a Spark DataFrame with the movies that have already been rated by this user\n",
        "  moviesAlreadyRated = ratings.filter(ratings.userId == user).select('movieId', 'userId')\n",
        "\n",
        "  # Apply the recommender system to the dataset without the already rated movies to predict ratings\n",
        "  predictions = bestModel.transform(dataSet.subtract(moviesAlreadyRated)).\n",
        "  dropna().orderBy('prediction', ascending=False).limit(nbRecommendations).select('movieId', 'prediction')\n",
        "    \n",
        "  # Join with the movies DataFrame to get the movies titles and genres\n",
        "  recommendations = predictions.join(movies_df, predictions.movieId == movies_df.movieId).select(\n",
        "      predictions.movieId, movies_df.title, movies_df.genres, predictions.prediction)\n",
        "\n",
        "  # recommendations.show(truncate=False)\n",
        "  return recommendations"
      ],
      "execution_count": null,
      "outputs": []
    },
    {
      "cell_type": "code",
      "metadata": {
        "id": "1CoMYfI-21ck",
        "colab": {
          "base_uri": "https://localhost:8080/",
          "height": 359
        },
        "outputId": "356394dd-41d2-4d25-fcd8-98819f57f0c3"
      },
      "source": [
        "# 10 Recommendations to user 10\n",
        "recommendMovies(bestModel, 10, 10).toPandas()"
      ],
      "execution_count": null,
      "outputs": [
        {
          "output_type": "execute_result",
          "data": {
            "text/html": [
              "<div>\n",
              "<style scoped>\n",
              "    .dataframe tbody tr th:only-of-type {\n",
              "        vertical-align: middle;\n",
              "    }\n",
              "\n",
              "    .dataframe tbody tr th {\n",
              "        vertical-align: top;\n",
              "    }\n",
              "\n",
              "    .dataframe thead th {\n",
              "        text-align: right;\n",
              "    }\n",
              "</style>\n",
              "<table border=\"1\" class=\"dataframe\">\n",
              "  <thead>\n",
              "    <tr style=\"text-align: right;\">\n",
              "      <th></th>\n",
              "      <th>movieId</th>\n",
              "      <th>title</th>\n",
              "      <th>genres</th>\n",
              "      <th>prediction</th>\n",
              "    </tr>\n",
              "  </thead>\n",
              "  <tbody>\n",
              "    <tr>\n",
              "      <th>0</th>\n",
              "      <td>1962</td>\n",
              "      <td>Driving Miss Daisy (1989)</td>\n",
              "      <td>Drama</td>\n",
              "      <td>4.362336</td>\n",
              "    </tr>\n",
              "    <tr>\n",
              "      <th>1</th>\n",
              "      <td>3061</td>\n",
              "      <td>Holiday Inn (1942)</td>\n",
              "      <td>Comedy|Musical</td>\n",
              "      <td>4.218753</td>\n",
              "    </tr>\n",
              "    <tr>\n",
              "      <th>2</th>\n",
              "      <td>3086</td>\n",
              "      <td>Babes in Toyland (1934)</td>\n",
              "      <td>Children|Comedy|Fantasy|Musical</td>\n",
              "      <td>4.384491</td>\n",
              "    </tr>\n",
              "    <tr>\n",
              "      <th>3</th>\n",
              "      <td>3685</td>\n",
              "      <td>Prizzi's Honor (1985)</td>\n",
              "      <td>Comedy|Drama|Romance</td>\n",
              "      <td>4.322546</td>\n",
              "    </tr>\n",
              "    <tr>\n",
              "      <th>4</th>\n",
              "      <td>4857</td>\n",
              "      <td>Fiddler on the Roof (1971)</td>\n",
              "      <td>Drama|Musical</td>\n",
              "      <td>4.467036</td>\n",
              "    </tr>\n",
              "    <tr>\n",
              "      <th>5</th>\n",
              "      <td>7034</td>\n",
              "      <td>Show Me Love (Fucking Åmål) (1998)</td>\n",
              "      <td>Drama|Romance</td>\n",
              "      <td>4.312288</td>\n",
              "    </tr>\n",
              "    <tr>\n",
              "      <th>6</th>\n",
              "      <td>26614</td>\n",
              "      <td>Bourne Identity, The (1988)</td>\n",
              "      <td>Action|Adventure|Drama|Mystery|Thriller</td>\n",
              "      <td>4.510836</td>\n",
              "    </tr>\n",
              "    <tr>\n",
              "      <th>7</th>\n",
              "      <td>86320</td>\n",
              "      <td>Melancholia (2011)</td>\n",
              "      <td>Drama|Sci-Fi</td>\n",
              "      <td>4.263542</td>\n",
              "    </tr>\n",
              "    <tr>\n",
              "      <th>8</th>\n",
              "      <td>161582</td>\n",
              "      <td>Hell or High Water (2016)</td>\n",
              "      <td>Crime|Drama</td>\n",
              "      <td>4.649501</td>\n",
              "    </tr>\n",
              "    <tr>\n",
              "      <th>9</th>\n",
              "      <td>179819</td>\n",
              "      <td>Star Wars: The Last Jedi (2017)</td>\n",
              "      <td>Action|Adventure|Fantasy|Sci-Fi</td>\n",
              "      <td>4.895617</td>\n",
              "    </tr>\n",
              "  </tbody>\n",
              "</table>\n",
              "</div>"
            ],
            "text/plain": [
              "   movieId  ... prediction\n",
              "0     1962  ...   4.362336\n",
              "1     3061  ...   4.218753\n",
              "2     3086  ...   4.384491\n",
              "3     3685  ...   4.322546\n",
              "4     4857  ...   4.467036\n",
              "5     7034  ...   4.312288\n",
              "6    26614  ...   4.510836\n",
              "7    86320  ...   4.263542\n",
              "8   161582  ...   4.649501\n",
              "9   179819  ...   4.895617\n",
              "\n",
              "[10 rows x 4 columns]"
            ]
          },
          "metadata": {
            "tags": []
          },
          "execution_count": 105
        }
      ]
    },
    {
      "cell_type": "code",
      "metadata": {
        "id": "PZwyCmRC6clu",
        "colab": {
          "base_uri": "https://localhost:8080/",
          "height": 359
        },
        "outputId": "4df582a0-1701-4582-cd35-790e7bad9b79"
      },
      "source": [
        "# Recommendations to user 471\n",
        "recommendMovies(bestModel, 471, 10).toPandas()"
      ],
      "execution_count": null,
      "outputs": [
        {
          "output_type": "execute_result",
          "data": {
            "text/html": [
              "<div>\n",
              "<style scoped>\n",
              "    .dataframe tbody tr th:only-of-type {\n",
              "        vertical-align: middle;\n",
              "    }\n",
              "\n",
              "    .dataframe tbody tr th {\n",
              "        vertical-align: top;\n",
              "    }\n",
              "\n",
              "    .dataframe thead th {\n",
              "        text-align: right;\n",
              "    }\n",
              "</style>\n",
              "<table border=\"1\" class=\"dataframe\">\n",
              "  <thead>\n",
              "    <tr style=\"text-align: right;\">\n",
              "      <th></th>\n",
              "      <th>movieId</th>\n",
              "      <th>title</th>\n",
              "      <th>genres</th>\n",
              "      <th>prediction</th>\n",
              "    </tr>\n",
              "  </thead>\n",
              "  <tbody>\n",
              "    <tr>\n",
              "      <th>0</th>\n",
              "      <td>2398</td>\n",
              "      <td>Miracle on 34th Street (1947)</td>\n",
              "      <td>Comedy|Drama</td>\n",
              "      <td>4.502142</td>\n",
              "    </tr>\n",
              "    <tr>\n",
              "      <th>1</th>\n",
              "      <td>3088</td>\n",
              "      <td>Harvey (1950)</td>\n",
              "      <td>Comedy|Fantasy</td>\n",
              "      <td>4.479091</td>\n",
              "    </tr>\n",
              "    <tr>\n",
              "      <th>2</th>\n",
              "      <td>7096</td>\n",
              "      <td>Rivers and Tides (2001)</td>\n",
              "      <td>Documentary</td>\n",
              "      <td>4.504360</td>\n",
              "    </tr>\n",
              "    <tr>\n",
              "      <th>3</th>\n",
              "      <td>26928</td>\n",
              "      <td>Summer's Tale, A (Conte d'été) (1996)</td>\n",
              "      <td>Comedy|Drama|Romance</td>\n",
              "      <td>4.440796</td>\n",
              "    </tr>\n",
              "    <tr>\n",
              "      <th>4</th>\n",
              "      <td>74226</td>\n",
              "      <td>Dream of Light (a.k.a. Quince Tree Sun, The) (...</td>\n",
              "      <td>Documentary|Drama</td>\n",
              "      <td>4.440796</td>\n",
              "    </tr>\n",
              "    <tr>\n",
              "      <th>5</th>\n",
              "      <td>78836</td>\n",
              "      <td>Enter the Void (2009)</td>\n",
              "      <td>Drama</td>\n",
              "      <td>4.476496</td>\n",
              "    </tr>\n",
              "    <tr>\n",
              "      <th>6</th>\n",
              "      <td>86237</td>\n",
              "      <td>Connections (1978)</td>\n",
              "      <td>Documentary</td>\n",
              "      <td>4.440796</td>\n",
              "    </tr>\n",
              "    <tr>\n",
              "      <th>7</th>\n",
              "      <td>92475</td>\n",
              "      <td>All Watched Over by Machines of Loving Grace (...</td>\n",
              "      <td>Documentary</td>\n",
              "      <td>4.488190</td>\n",
              "    </tr>\n",
              "    <tr>\n",
              "      <th>8</th>\n",
              "      <td>171495</td>\n",
              "      <td>Cosmos</td>\n",
              "      <td>(no genres listed)</td>\n",
              "      <td>4.440796</td>\n",
              "    </tr>\n",
              "    <tr>\n",
              "      <th>9</th>\n",
              "      <td>177593</td>\n",
              "      <td>Three Billboards Outside Ebbing, Missouri (2017)</td>\n",
              "      <td>Crime|Drama</td>\n",
              "      <td>4.757327</td>\n",
              "    </tr>\n",
              "  </tbody>\n",
              "</table>\n",
              "</div>"
            ],
            "text/plain": [
              "   movieId  ... prediction\n",
              "0     2398  ...   4.502142\n",
              "1     3088  ...   4.479091\n",
              "2     7096  ...   4.504360\n",
              "3    26928  ...   4.440796\n",
              "4    74226  ...   4.440796\n",
              "5    78836  ...   4.476496\n",
              "6    86237  ...   4.440796\n",
              "7    92475  ...   4.488190\n",
              "8   171495  ...   4.440796\n",
              "9   177593  ...   4.757327\n",
              "\n",
              "[10 rows x 4 columns]"
            ]
          },
          "metadata": {
            "tags": []
          },
          "execution_count": 106
        }
      ]
    }
  ]
}